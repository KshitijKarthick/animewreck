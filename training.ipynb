{
 "cells": [
  {
   "cell_type": "code",
   "execution_count": 2,
   "metadata": {},
   "outputs": [
    {
     "name": "stderr",
     "output_type": "stream",
     "text": [
      "Using TensorFlow backend.\n"
     ]
    }
   ],
   "source": [
    "import os\n",
    "import json\n",
    "from collections import OrderedDict\n",
    "from operator import itemgetter\n",
    "\n",
    "from tqdm import tqdm\n",
    "import numpy as np\n",
    "import pandas as pd\n",
    "\n",
    "from keras.layers import Embedding, Dense, Input, Dropout, BatchNormalization, Flatten\n",
    "from keras.layers.merge import concatenate, add\n",
    "from keras.models import Model\n",
    "from keras.optimizers import Adam\n",
    "from keras.regularizers import l2\n",
    "\n",
    "\n",
    "import matplotlib.pyplot as plt"
   ]
  },
  {
   "cell_type": "code",
   "execution_count": 7,
   "metadata": {},
   "outputs": [],
   "source": [
    "np.random.seed(42)\n",
    "NUM_RATINGS = 50000000000000000000000\n",
    "GENRES = set()\n",
    "num_factors = 50\n",
    "dir_name = 'run_{}'.format(NUM_RATINGS)\n",
    "if not os.path.exists(dir_name):\n",
    "    os.makedirs(dir_name)"
   ]
  },
  {
   "cell_type": "code",
   "execution_count": 10,
   "metadata": {},
   "outputs": [
    {
     "data": {
      "text/plain": [
       "Index(['username', 'user_id', 'user_watching', 'user_completed', 'user_onhold',\n",
       "       'user_dropped', 'user_plantowatch', 'user_days_spent_watching',\n",
       "       'gender', 'location', 'birth_date', 'access_rank', 'join_date',\n",
       "       'last_online', 'stats_mean_score', 'stats_rewatched', 'stats_episodes'],\n",
       "      dtype='object')"
      ]
     },
     "execution_count": 10,
     "metadata": {},
     "output_type": "execute_result"
    }
   ],
   "source": [
    "users_df = pd.read_csv('datasets/users_cleaned.csv').dropna(subset=['user_id', 'username'])\n",
    "users_df.columns"
   ]
  },
  {
   "cell_type": "code",
   "execution_count": 11,
   "metadata": {},
   "outputs": [
    {
     "data": {
      "text/plain": [
       "Index(['anime_id', 'title', 'title_english', 'title_japanese',\n",
       "       'title_synonyms', 'image_url', 'type', 'source', 'episodes', 'status',\n",
       "       'airing', 'aired_string', 'aired', 'duration', 'rating', 'score',\n",
       "       'scored_by', 'rank', 'popularity', 'members', 'favorites', 'background',\n",
       "       'premiered', 'broadcast', 'related', 'producer', 'licensor', 'studio',\n",
       "       'genre', 'opening_theme', 'ending_theme', 'duration_min',\n",
       "       'aired_from_year'],\n",
       "      dtype='object')"
      ]
     },
     "execution_count": 11,
     "metadata": {},
     "output_type": "execute_result"
    }
   ],
   "source": [
    "anime_df = pd.read_csv('datasets/anime_cleaned.csv').dropna(subset=['anime_id', 'title'])\n",
    "anime_df.columns"
   ]
  },
  {
   "cell_type": "code",
   "execution_count": 5,
   "metadata": {},
   "outputs": [],
   "source": [
    "anime_info_cols = [\n",
    "    'anime_id', 'episodes', 'aired_from_year', 'rating', 'type', 'title'\n",
    "]\n",
    "anime_info_df = anime_df[anime_info_cols]"
   ]
  },
  {
   "cell_type": "code",
   "execution_count": 6,
   "metadata": {},
   "outputs": [],
   "source": [
    "# genres = set()\n",
    "# genres_split = anime_info_df.dropna(subset=['genre']).genre.str.split(', ')\n",
    "# for ix, genre_list in genres_split.iteritems():\n",
    "#     if isinstance(genre_list, list):\n",
    "#         for genre in genre_list:\n",
    "#             genres.add(genre)\n",
    "# for genre in tqdm(genres):\n",
    "#     anime_info_df.loc[:, 'genre_{}'.format(genre)] = anime_info_df.apply(\n",
    "#         lambda _: -1 if pd.isnull(_.genre) else int(genre in _.genre), axis=1\n",
    "#     )\n",
    "# anime_info_df.drop('genre', axis=1)"
   ]
  },
  {
   "cell_type": "code",
   "execution_count": 6,
   "metadata": {},
   "outputs": [
    {
     "name": "stdout",
     "output_type": "stream",
     "text": [
      "Category rating: 7\n",
      "Category type: 6\n"
     ]
    }
   ],
   "source": [
    "categorical_vars = ['rating', 'type']\n",
    "for cat in categorical_vars:\n",
    "    print(\"Category {}: {}\".format(cat, anime_info_df[cat].nunique()))\n",
    "    anime_info_df = pd.concat(\n",
    "        [anime_info_df, pd.get_dummies(anime_info_df[cat], prefix=cat)], axis=1\n",
    "    ).drop(cat, axis=1)"
   ]
  },
  {
   "cell_type": "code",
   "execution_count": 7,
   "metadata": {},
   "outputs": [],
   "source": [
    "cat_feat_names = list(anime_info_df.columns)\n",
    "cat_feat_names.remove('anime_id')"
   ]
  },
  {
   "cell_type": "code",
   "execution_count": 31,
   "metadata": {},
   "outputs": [
    {
     "data": {
      "text/plain": [
       "Index(['username', 'anime_id', 'my_watched_episodes', 'my_start_date',\n",
       "       'my_finish_date', 'my_score', 'my_status', 'my_rewatching',\n",
       "       'my_rewatching_ep', 'my_last_updated', 'my_tags'],\n",
       "      dtype='object')"
      ]
     },
     "execution_count": 31,
     "metadata": {},
     "output_type": "execute_result"
    }
   ],
   "source": [
    "ratings_df = pd.read_csv('myanimelist/animelists_cleaned.csv', nrows=NUM_RATINGS).dropna(subset=['username', 'anime_id'])\n",
    "ratings_df.columns"
   ]
  },
  {
   "cell_type": "code",
   "execution_count": 32,
   "metadata": {},
   "outputs": [],
   "source": [
    "anime_titles = anime_df.set_index('anime_id')['title'].to_dict()"
   ]
  },
  {
   "cell_type": "code",
   "execution_count": 33,
   "metadata": {},
   "outputs": [],
   "source": [
    "usernames2userid = users_df.set_index('username')['user_id'].to_dict()"
   ]
  },
  {
   "cell_type": "code",
   "execution_count": 34,
   "metadata": {},
   "outputs": [
    {
     "data": {
      "text/html": [
       "<div>\n",
       "<style scoped>\n",
       "    .dataframe tbody tr th:only-of-type {\n",
       "        vertical-align: middle;\n",
       "    }\n",
       "\n",
       "    .dataframe tbody tr th {\n",
       "        vertical-align: top;\n",
       "    }\n",
       "\n",
       "    .dataframe thead th {\n",
       "        text-align: right;\n",
       "    }\n",
       "</style>\n",
       "<table border=\"1\" class=\"dataframe\">\n",
       "  <thead>\n",
       "    <tr style=\"text-align: right;\">\n",
       "      <th></th>\n",
       "      <th>user_id</th>\n",
       "      <th>anime_id</th>\n",
       "      <th>my_score</th>\n",
       "    </tr>\n",
       "  </thead>\n",
       "  <tbody>\n",
       "    <tr>\n",
       "      <th>0</th>\n",
       "      <td>2255153</td>\n",
       "      <td>21</td>\n",
       "      <td>9</td>\n",
       "    </tr>\n",
       "    <tr>\n",
       "      <th>1</th>\n",
       "      <td>2255153</td>\n",
       "      <td>59</td>\n",
       "      <td>7</td>\n",
       "    </tr>\n",
       "    <tr>\n",
       "      <th>2</th>\n",
       "      <td>2255153</td>\n",
       "      <td>74</td>\n",
       "      <td>7</td>\n",
       "    </tr>\n",
       "    <tr>\n",
       "      <th>3</th>\n",
       "      <td>2255153</td>\n",
       "      <td>120</td>\n",
       "      <td>7</td>\n",
       "    </tr>\n",
       "    <tr>\n",
       "      <th>4</th>\n",
       "      <td>2255153</td>\n",
       "      <td>178</td>\n",
       "      <td>7</td>\n",
       "    </tr>\n",
       "  </tbody>\n",
       "</table>\n",
       "</div>"
      ],
      "text/plain": [
       "   user_id  anime_id  my_score\n",
       "0  2255153        21         9\n",
       "1  2255153        59         7\n",
       "2  2255153        74         7\n",
       "3  2255153       120         7\n",
       "4  2255153       178         7"
      ]
     },
     "execution_count": 34,
     "metadata": {},
     "output_type": "execute_result"
    }
   ],
   "source": [
    "ratings_df.loc[:, 'user_id'] = ratings_df.username.apply(lambda x: usernames2userid[x])\n",
    "ratings_df = ratings_df[['user_id', 'anime_id', 'my_score']]\n",
    "ratings_df.head()"
   ]
  },
  {
   "cell_type": "code",
   "execution_count": 13,
   "metadata": {},
   "outputs": [],
   "source": [
    "# num_users = ratings_df.user_id.nunique()\n",
    "# num_anime = ratings_df.anime_id.nunique()\n",
    "# num_users, num_anime\n",
    "num_users, num_anime = (108709, 6668)"
   ]
  },
  {
   "cell_type": "code",
   "execution_count": 36,
   "metadata": {},
   "outputs": [],
   "source": [
    "users = ratings_df.user_id.unique()\n",
    "anime = ratings_df.anime_id.unique()"
   ]
  },
  {
   "cell_type": "code",
   "execution_count": 37,
   "metadata": {},
   "outputs": [],
   "source": [
    "user2idx = {int(o): int(i) for i, o in enumerate(users)}\n",
    "anime2idx = {int(o): int(i) for i, o in enumerate(anime)}"
   ]
  },
  {
   "cell_type": "code",
   "execution_count": 38,
   "metadata": {},
   "outputs": [],
   "source": [
    "idx2anime = {int(v): int(k) for k, v in anime2idx.items()}\n",
    "idx2user = {int(v): int(k) for k, v in user2idx.items()}"
   ]
  },
  {
   "cell_type": "code",
   "execution_count": 39,
   "metadata": {},
   "outputs": [],
   "source": [
    "ratings_df = pd.merge(ratings_df, anime_info_df, on='anime_id', how='left')"
   ]
  },
  {
   "cell_type": "code",
   "execution_count": 40,
   "metadata": {},
   "outputs": [],
   "source": [
    "ratings_df.anime_id = ratings_df.anime_id.apply(lambda x: anime2idx[x])\n",
    "ratings_df.user_id = ratings_df.user_id.apply(lambda x: user2idx[x])"
   ]
  },
  {
   "cell_type": "code",
   "execution_count": 83,
   "metadata": {},
   "outputs": [],
   "source": [
    "# import json\n",
    "# mappings = {\n",
    "#     'idx2anime': idx2anime,\n",
    "#     'idx2user': idx2user,\n",
    "#     'user2idx': user2idx,\n",
    "#     'anime2idx': anime2idx\n",
    "# }\n",
    "\n",
    "# with open('anime_user_rating_mapping.json', 'w') as fp:\n",
    "#     json.dump(mappings, fp)"
   ]
  },
  {
   "cell_type": "code",
   "execution_count": 42,
   "metadata": {},
   "outputs": [
    {
     "data": {
      "text/html": [
       "<div>\n",
       "<style scoped>\n",
       "    .dataframe tbody tr th:only-of-type {\n",
       "        vertical-align: middle;\n",
       "    }\n",
       "\n",
       "    .dataframe tbody tr th {\n",
       "        vertical-align: top;\n",
       "    }\n",
       "\n",
       "    .dataframe thead th {\n",
       "        text-align: right;\n",
       "    }\n",
       "</style>\n",
       "<table border=\"1\" class=\"dataframe\">\n",
       "  <thead>\n",
       "    <tr style=\"text-align: right;\">\n",
       "      <th></th>\n",
       "      <th>user_id</th>\n",
       "      <th>anime_id</th>\n",
       "      <th>my_score</th>\n",
       "      <th>episodes</th>\n",
       "      <th>aired_from_year</th>\n",
       "      <th>title</th>\n",
       "      <th>rating_G - All Ages</th>\n",
       "      <th>rating_None</th>\n",
       "      <th>rating_PG - Children</th>\n",
       "      <th>rating_PG-13 - Teens 13 or older</th>\n",
       "      <th>rating_R - 17+ (violence &amp; profanity)</th>\n",
       "      <th>rating_R+ - Mild Nudity</th>\n",
       "      <th>rating_Rx - Hentai</th>\n",
       "      <th>type_Movie</th>\n",
       "      <th>type_Music</th>\n",
       "      <th>type_ONA</th>\n",
       "      <th>type_OVA</th>\n",
       "      <th>type_Special</th>\n",
       "      <th>type_TV</th>\n",
       "    </tr>\n",
       "  </thead>\n",
       "  <tbody>\n",
       "    <tr>\n",
       "      <th>0</th>\n",
       "      <td>0</td>\n",
       "      <td>0</td>\n",
       "      <td>9</td>\n",
       "      <td>0</td>\n",
       "      <td>1999.0</td>\n",
       "      <td>One Piece</td>\n",
       "      <td>0</td>\n",
       "      <td>0</td>\n",
       "      <td>0</td>\n",
       "      <td>1</td>\n",
       "      <td>0</td>\n",
       "      <td>0</td>\n",
       "      <td>0</td>\n",
       "      <td>0</td>\n",
       "      <td>0</td>\n",
       "      <td>0</td>\n",
       "      <td>0</td>\n",
       "      <td>0</td>\n",
       "      <td>1</td>\n",
       "    </tr>\n",
       "    <tr>\n",
       "      <th>1</th>\n",
       "      <td>0</td>\n",
       "      <td>1</td>\n",
       "      <td>7</td>\n",
       "      <td>26</td>\n",
       "      <td>2002.0</td>\n",
       "      <td>Chobits</td>\n",
       "      <td>0</td>\n",
       "      <td>0</td>\n",
       "      <td>0</td>\n",
       "      <td>1</td>\n",
       "      <td>0</td>\n",
       "      <td>0</td>\n",
       "      <td>0</td>\n",
       "      <td>0</td>\n",
       "      <td>0</td>\n",
       "      <td>0</td>\n",
       "      <td>0</td>\n",
       "      <td>0</td>\n",
       "      <td>1</td>\n",
       "    </tr>\n",
       "    <tr>\n",
       "      <th>2</th>\n",
       "      <td>0</td>\n",
       "      <td>2</td>\n",
       "      <td>7</td>\n",
       "      <td>26</td>\n",
       "      <td>2004.0</td>\n",
       "      <td>Gakuen Alice</td>\n",
       "      <td>1</td>\n",
       "      <td>0</td>\n",
       "      <td>0</td>\n",
       "      <td>0</td>\n",
       "      <td>0</td>\n",
       "      <td>0</td>\n",
       "      <td>0</td>\n",
       "      <td>0</td>\n",
       "      <td>0</td>\n",
       "      <td>0</td>\n",
       "      <td>0</td>\n",
       "      <td>0</td>\n",
       "      <td>1</td>\n",
       "    </tr>\n",
       "    <tr>\n",
       "      <th>3</th>\n",
       "      <td>0</td>\n",
       "      <td>3</td>\n",
       "      <td>7</td>\n",
       "      <td>26</td>\n",
       "      <td>2001.0</td>\n",
       "      <td>Fruits Basket</td>\n",
       "      <td>0</td>\n",
       "      <td>0</td>\n",
       "      <td>0</td>\n",
       "      <td>1</td>\n",
       "      <td>0</td>\n",
       "      <td>0</td>\n",
       "      <td>0</td>\n",
       "      <td>0</td>\n",
       "      <td>0</td>\n",
       "      <td>0</td>\n",
       "      <td>0</td>\n",
       "      <td>0</td>\n",
       "      <td>1</td>\n",
       "    </tr>\n",
       "    <tr>\n",
       "      <th>4</th>\n",
       "      <td>0</td>\n",
       "      <td>4</td>\n",
       "      <td>7</td>\n",
       "      <td>26</td>\n",
       "      <td>2003.0</td>\n",
       "      <td>Ultra Maniac</td>\n",
       "      <td>1</td>\n",
       "      <td>0</td>\n",
       "      <td>0</td>\n",
       "      <td>0</td>\n",
       "      <td>0</td>\n",
       "      <td>0</td>\n",
       "      <td>0</td>\n",
       "      <td>0</td>\n",
       "      <td>0</td>\n",
       "      <td>0</td>\n",
       "      <td>0</td>\n",
       "      <td>0</td>\n",
       "      <td>1</td>\n",
       "    </tr>\n",
       "  </tbody>\n",
       "</table>\n",
       "</div>"
      ],
      "text/plain": [
       "   user_id  anime_id  my_score  episodes  aired_from_year          title  \\\n",
       "0        0         0         9         0           1999.0      One Piece   \n",
       "1        0         1         7        26           2002.0        Chobits   \n",
       "2        0         2         7        26           2004.0   Gakuen Alice   \n",
       "3        0         3         7        26           2001.0  Fruits Basket   \n",
       "4        0         4         7        26           2003.0   Ultra Maniac   \n",
       "\n",
       "   rating_G - All Ages  rating_None  rating_PG - Children  \\\n",
       "0                    0            0                     0   \n",
       "1                    0            0                     0   \n",
       "2                    1            0                     0   \n",
       "3                    0            0                     0   \n",
       "4                    1            0                     0   \n",
       "\n",
       "   rating_PG-13 - Teens 13 or older  rating_R - 17+ (violence & profanity)  \\\n",
       "0                                 1                                      0   \n",
       "1                                 1                                      0   \n",
       "2                                 0                                      0   \n",
       "3                                 1                                      0   \n",
       "4                                 0                                      0   \n",
       "\n",
       "   rating_R+ - Mild Nudity  rating_Rx - Hentai  type_Movie  type_Music  \\\n",
       "0                        0                   0           0           0   \n",
       "1                        0                   0           0           0   \n",
       "2                        0                   0           0           0   \n",
       "3                        0                   0           0           0   \n",
       "4                        0                   0           0           0   \n",
       "\n",
       "   type_ONA  type_OVA  type_Special  type_TV  \n",
       "0         0         0             0        1  \n",
       "1         0         0             0        1  \n",
       "2         0         0             0        1  \n",
       "3         0         0             0        1  \n",
       "4         0         0             0        1  "
      ]
     },
     "execution_count": 42,
     "metadata": {},
     "output_type": "execute_result"
    }
   ],
   "source": [
    "ratings_df.head()"
   ]
  },
  {
   "cell_type": "code",
   "execution_count": 92,
   "metadata": {},
   "outputs": [],
   "source": [
    "# bins = range(-1, len(ratings_df) + 5000000, 5000000)\n",
    "# ratings_df['binned'] = pd.cut(ratings_df.index, bins)"
   ]
  },
  {
   "cell_type": "code",
   "execution_count": 93,
   "metadata": {},
   "outputs": [
    {
     "name": "stderr",
     "output_type": "stream",
     "text": [
      "\n",
      "\n",
      "0it [00:00, ?it/s]\u001b[A\u001b[A\n",
      "\n",
      "1it [00:14, 14.10s/it]\u001b[A\u001b[A\n",
      "\n",
      "2it [00:27, 13.96s/it]\u001b[A\u001b[A\n",
      "\n",
      "3it [00:41, 13.95s/it]\u001b[A\u001b[A\n",
      "\n",
      "4it [00:55, 14.00s/it]\u001b[A\u001b[A\n",
      "\n",
      "5it [01:09, 14.07s/it]\u001b[A\u001b[A\n",
      "\n",
      "6it [01:24, 14.06s/it]\u001b[A\u001b[A\n",
      "\n",
      "7it [01:27, 10.94s/it]\u001b[A\u001b[A"
     ]
    }
   ],
   "source": [
    "# for file_id, (index, group) in tqdm(enumerate(ratings_df[['user_id', 'anime_id', 'my_score', 'binned']].groupby('binned'))):\n",
    "#     group[['user_id', 'anime_id', 'my_score']].to_csv('processed_ratings/user_ratings_processed_{}.csv'.format(file_id), index=False)"
   ]
  },
  {
   "cell_type": "code",
   "execution_count": 91,
   "metadata": {},
   "outputs": [
    {
     "data": {
      "text/plain": [
       "6.2567574"
      ]
     },
     "execution_count": 91,
     "metadata": {},
     "output_type": "execute_result"
    }
   ],
   "source": [
    "# len(ratings_df) / 5000000"
   ]
  },
  {
   "cell_type": "code",
   "execution_count": 20,
   "metadata": {},
   "outputs": [],
   "source": [
    "msk = np.random.rand(len(ratings_df)) < 0.8\n",
    "trn = ratings_df[msk]\n",
    "val = ratings_df[~msk]"
   ]
  },
  {
   "cell_type": "code",
   "execution_count": 4,
   "metadata": {},
   "outputs": [],
   "source": [
    "def embedding_input(name, n_in, n_out, reg):\n",
    "    inp = Input(shape=(1,), dtype='int64', name=name)\n",
    "    return inp, Embedding(n_in, n_out, input_length=1, embeddings_regularizer=l2(reg))(inp)"
   ]
  },
  {
   "cell_type": "code",
   "execution_count": 5,
   "metadata": {},
   "outputs": [],
   "source": [
    "def create_bias(inp, n_in):\n",
    "    x = Embedding(n_in, 1, input_length=1)(inp)\n",
    "    return Flatten()(x)"
   ]
  },
  {
   "cell_type": "code",
   "execution_count": 14,
   "metadata": {},
   "outputs": [],
   "source": [
    "user_in, u = embedding_input('user_in', num_users, num_factors, 1e-4)\n",
    "anime_in, m = embedding_input('anime_in', num_anime, num_factors, 1e-4)\n",
    "# cat_in = Input(shape=(len(cat_feat_names),), name='cat_features')"
   ]
  },
  {
   "cell_type": "code",
   "execution_count": 23,
   "metadata": {},
   "outputs": [],
   "source": [
    "# ub = create_bias(user_in, num_users)\n",
    "# mb = create_bias(anime_in, num_anime)\n",
    "# x = concatenate([u, m])\n",
    "# x = Flatten()(x)\n",
    "# x = add([x, ub])\n",
    "# x = add([x, mb])\n",
    "# x = Dropout(0.3)(x)\n",
    "# x = Dense(124, activation='relu')(x)\n",
    "# x = BatchNormalization()(x)\n",
    "# x = Dropout(0.45)(x)\n",
    "# x = Dense(70, activation='relu')(x)\n",
    "# x = BatchNormalization()(x)\n",
    "# x = Dropout(0.75)(x)\n",
    "# x = Dense(1)(x)\n",
    "# nn = Model([user_in, anime_in], x)"
   ]
  },
  {
   "cell_type": "code",
   "execution_count": 15,
   "metadata": {},
   "outputs": [],
   "source": [
    "x = concatenate([u, m])\n",
    "x = Flatten()(x)\n",
    "x = Dropout(0.3)(x)\n",
    "x = Dense(124, activation='relu')(x)\n",
    "x = BatchNormalization()(x)\n",
    "x = Dropout(0.45)(x)\n",
    "x = Dense(70, activation='relu')(x)\n",
    "x = BatchNormalization()(x)\n",
    "x = Dropout(0.75)(x)\n",
    "x = Dense(1)(x)\n",
    "nn = Model([user_in, anime_in], x)\n",
    "\n",
    "\n",
    "# x = concatenate([u, m])\n",
    "# x = Flatten()(x)\n",
    "# x = Dropout(0.3)(x)\n",
    "# x = concatenate([x, cat_in])\n",
    "# x = Dense(124, activation='relu')(x)\n",
    "# x = BatchNormalization()(x)\n",
    "# x = Dropout(0.45)(x)\n",
    "# x = Dense(70, activation='relu')(x)\n",
    "# x = BatchNormalization()(x)\n",
    "# x = Dropout(0.75)(x)\n",
    "# x = Dense(1)(x)\n",
    "# nn = Model([user_in, anime_in, cat_in], x)"
   ]
  },
  {
   "cell_type": "code",
   "execution_count": 25,
   "metadata": {},
   "outputs": [
    {
     "name": "stdout",
     "output_type": "stream",
     "text": [
      "Train on 25030823 samples, validate on 6252964 samples\n",
      "Epoch 1/12\n",
      "25030823/25030823 [==============================] - 1079s 43us/step - loss: 12.3412 - val_loss: 10.9606\n",
      "Epoch 2/12\n",
      "25030823/25030823 [==============================] - 1028s 41us/step - loss: 11.2579 - val_loss: 10.7712\n",
      "Epoch 3/12\n",
      "25030823/25030823 [==============================] - 1032s 41us/step - loss: 11.1945 - val_loss: 10.6933\n",
      "Epoch 4/12\n",
      "25030823/25030823 [==============================] - 1033s 41us/step - loss: 11.1917 - val_loss: 10.6860\n",
      "Epoch 5/12\n",
      "25030823/25030823 [==============================] - 1032s 41us/step - loss: 11.1910 - val_loss: 10.6632\n",
      "Epoch 6/12\n",
      "25030823/25030823 [==============================] - 1032s 41us/step - loss: 11.1885 - val_loss: 10.6654\n",
      "Epoch 7/12\n",
      "25030823/25030823 [==============================] - 1031s 41us/step - loss: 11.1747 - val_loss: 10.6312\n",
      "Epoch 8/12\n",
      "25030823/25030823 [==============================] - 1029s 41us/step - loss: 11.1709 - val_loss: 10.6464\n",
      "Epoch 9/12\n",
      "25030823/25030823 [==============================] - 1029s 41us/step - loss: 11.1695 - val_loss: 10.6275\n",
      "Epoch 10/12\n",
      "25030823/25030823 [==============================] - 1052s 42us/step - loss: 11.1668 - val_loss: 10.6235\n",
      "Epoch 11/12\n",
      "25030823/25030823 [==============================] - 1040s 42us/step - loss: 11.1711 - val_loss: 10.6254\n",
      "Epoch 12/12\n",
      "25030823/25030823 [==============================] - 1089s 44us/step - loss: 11.1745 - val_loss: 10.6292\n"
     ]
    },
    {
     "data": {
      "text/plain": [
       "<keras.callbacks.History at 0x7f9f49b7a828>"
      ]
     },
     "execution_count": 25,
     "metadata": {},
     "output_type": "execute_result"
    }
   ],
   "source": [
    "# nn.compile(Adam(0.001), loss='mse')\n",
    "# nn.fit([trn.user_id, trn.anime_id], trn.my_score, batch_size=2048, epochs=12,\n",
    "#        validation_data=([val.user_id, val.anime_id], val.my_score))"
   ]
  },
  {
   "cell_type": "code",
   "execution_count": 26,
   "metadata": {},
   "outputs": [
    {
     "name": "stdout",
     "output_type": "stream",
     "text": [
      "Train on 25030823 samples, validate on 6252964 samples\n",
      "Epoch 1/14\n",
      "25030823/25030823 [==============================] - 1035s 41us/step - loss: 10.5042 - val_loss: 9.7665\n",
      "Epoch 2/14\n",
      "25030823/25030823 [==============================] - 982s 39us/step - loss: 10.1442 - val_loss: 9.5747\n",
      "Epoch 3/14\n",
      "25030823/25030823 [==============================] - 941s 38us/step - loss: 10.0053 - val_loss: 9.4825\n",
      "Epoch 4/14\n",
      "25030823/25030823 [==============================] - 1028s 41us/step - loss: 9.9312 - val_loss: 9.4273\n",
      "Epoch 5/14\n",
      "25030823/25030823 [==============================] - 949s 38us/step - loss: 9.8820 - val_loss: 9.3979\n",
      "Epoch 6/14\n",
      "25030823/25030823 [==============================] - 949s 38us/step - loss: 9.8468 - val_loss: 9.3665\n",
      "Epoch 7/14\n",
      "25030823/25030823 [==============================] - 950s 38us/step - loss: 9.8236 - val_loss: 9.3464\n",
      "Epoch 8/14\n",
      "25030823/25030823 [==============================] - 950s 38us/step - loss: 9.8047 - val_loss: 9.3374\n",
      "Epoch 9/14\n",
      "25030823/25030823 [==============================] - 1005s 40us/step - loss: 9.7898 - val_loss: 9.3216\n",
      "Epoch 10/14\n",
      "25030823/25030823 [==============================] - 1084s 43us/step - loss: 9.7781 - val_loss: 9.3087\n",
      "Epoch 11/14\n",
      "25030823/25030823 [==============================] - 974s 39us/step - loss: 9.7705 - val_loss: 9.3011\n",
      "Epoch 12/14\n",
      "25030823/25030823 [==============================] - 964s 39us/step - loss: 9.7625 - val_loss: 9.2961\n",
      "Epoch 13/14\n",
      "25030823/25030823 [==============================] - 950s 38us/step - loss: 9.7569 - val_loss: 9.2834\n",
      "Epoch 14/14\n",
      "25030823/25030823 [==============================] - 950s 38us/step - loss: 9.7475 - val_loss: 9.2803\n"
     ]
    },
    {
     "data": {
      "text/plain": [
       "<keras.callbacks.History at 0x7f9f959d9550>"
      ]
     },
     "execution_count": 26,
     "metadata": {},
     "output_type": "execute_result"
    }
   ],
   "source": [
    "# nn.compile(Adam(0.0001), loss='mse')\n",
    "# nn.fit([trn.user_id, trn.anime_id], trn.my_score, batch_size=2048, epochs=14,\n",
    "#        validation_data=([val.user_id, val.anime_id], val.my_score))"
   ]
  },
  {
   "cell_type": "code",
   "execution_count": 27,
   "metadata": {},
   "outputs": [],
   "source": [
    "# nn.save_weights('{}/{}_cat_feat_ratings.h5'.format(dir_name, NUM_RATINGS))"
   ]
  },
  {
   "cell_type": "code",
   "execution_count": 18,
   "metadata": {},
   "outputs": [],
   "source": [
    "nn.load_weights('{}_feat_ratings.h5'.format(NUM_RATINGS))"
   ]
  },
  {
   "cell_type": "code",
   "execution_count": 23,
   "metadata": {},
   "outputs": [],
   "source": [
    "import pickle\n",
    "pickle.dump(nn.get_weights()[1], open('anime_embeddings.pkl', 'wb'))"
   ]
  },
  {
   "cell_type": "code",
   "execution_count": 28,
   "metadata": {},
   "outputs": [],
   "source": [
    "# nn.compile(Adam(0.0001), loss='mse')\n",
    "# nn.fit([trn.user_id, trn.anime_id], trn.my_score, batch_size=2048, epochs=6,\n",
    "#        validation_data=([val.user_id, val.anime_id], val.my_score))"
   ]
  },
  {
   "cell_type": "code",
   "execution_count": 29,
   "metadata": {},
   "outputs": [],
   "source": [
    "# nn.compile(Adam(0.0001), loss='mse')\n",
    "# nn.fit([trn.user_id, trn.anime_id], trn.my_score, batch_size=2048, epochs=15,\n",
    "#        validation_data=([val.user_id, val.anime_id], val.my_score))"
   ]
  },
  {
   "cell_type": "code",
   "execution_count": 30,
   "metadata": {},
   "outputs": [],
   "source": [
    "# nn.compile(Adam(0.0001), loss='mse')\n",
    "# nn.fit([trn.user_id, trn.anime_id], trn.my_score, batch_size=5000, epochs=20,\n",
    "#        validation_data=([val.user_id, val.anime_id], val.my_score))"
   ]
  },
  {
   "cell_type": "code",
   "execution_count": 31,
   "metadata": {},
   "outputs": [],
   "source": [
    "# nn.save_weights('{}_feat_ratings_2.h5'.format(NUM_RATINGS))"
   ]
  },
  {
   "cell_type": "code",
   "execution_count": 26,
   "metadata": {},
   "outputs": [],
   "source": [
    "condensed_latent_features = 5"
   ]
  },
  {
   "cell_type": "code",
   "execution_count": 27,
   "metadata": {},
   "outputs": [
    {
     "data": {
      "text/plain": [
       "(5, 6668)"
      ]
     },
     "execution_count": 27,
     "metadata": {},
     "output_type": "execute_result"
    }
   ],
   "source": [
    "from sklearn.decomposition import PCA\n",
    "weights = nn.get_weights()[1]\n",
    "pca = PCA(n_components=condensed_latent_features)\n",
    "anime_emb_enc = pca.fit(weights.T).components_\n",
    "anime_emb_enc.shape"
   ]
  },
  {
   "cell_type": "code",
   "execution_count": 28,
   "metadata": {},
   "outputs": [],
   "source": [
    "from sklearn.manifold import TSNE\n",
    "tsne = TSNE(n_components=2)\n",
    "anime_emb_enc_tsne = tsne.fit(weights).embedding_"
   ]
  },
  {
   "cell_type": "code",
   "execution_count": 29,
   "metadata": {},
   "outputs": [
    {
     "data": {
      "text/plain": [
       "(6668, 2)"
      ]
     },
     "execution_count": 29,
     "metadata": {},
     "output_type": "execute_result"
    }
   ],
   "source": [
    "anime_emb_enc_tsne.shape"
   ]
  },
  {
   "cell_type": "code",
   "execution_count": 30,
   "metadata": {},
   "outputs": [
    {
     "data": {
      "text/plain": [
       "array([39.264473, 37.052067, 44.003017], dtype=float32)"
      ]
     },
     "execution_count": 30,
     "metadata": {},
     "output_type": "execute_result"
    }
   ],
   "source": [
    "anime_emb_enc_tsne[[2, 3, 4]].T[0]"
   ]
  },
  {
   "cell_type": "code",
   "execution_count": 38,
   "metadata": {},
   "outputs": [],
   "source": [
    "g = ratings_df.groupby('anime_id')['my_score'].mean()\n",
    "top_anime = g.sort_values(ascending=False)\n",
    "top_anime = np.array(top_anime.index)\n",
    "\n",
    "feat_dir_name = '{}/condensed_latent_features_{}'.format(dir_name, condensed_latent_features)\n",
    "if not os.path.exists(feat_dir_name):\n",
    "    os.makedirs(feat_dir_name)"
   ]
  },
  {
   "cell_type": "code",
   "execution_count": 40,
   "metadata": {},
   "outputs": [
    {
     "data": {
      "image/png": "[encoded data removed]",
      "text/plain": [
       "<Figure size 1440x1440 with 1 Axes>"
      ]
     },
     "metadata": {
      "needs_background": "light"
     },
     "output_type": "display_data"
    }
   ],
   "source": [
    "def generate_plot_for_top_n_anime(embeddings, topn=None, top_anime=top_anime, figsize=(20, 20), plot=True):\n",
    "    anime_plots = []\n",
    "    topn = len(top_anime) if topn is None else topn\n",
    "    plt.figure(figsize=figsize)\n",
    "    plt.scatter(anime_emb_enc_tsne[top_anime[:topn]].T[0], anime_emb_enc_tsne[top_anime[:topn]].T[1])\n",
    "    for idx in top_anime[:topn]:\n",
    "        anime_plots.append([anime_titles[idx2anime[idx]], embeddings[idx]])\n",
    "        if plot:\n",
    "            plt.text(embeddings[idx][0],\n",
    "                     embeddings[idx][1],\n",
    "                     anime_titles[idx2anime[idx]], color=np.random.rand(3)*0.7, fontsize=14)\n",
    "    if plot:\n",
    "        plt.show()\n",
    "    return anime_plots\n",
    "    \n",
    "anime_topn_tsne = generate_plot_for_top_n_anime(embeddings=anime_emb_enc_tsne, topn=50, plot=True)"
   ]
  },
  {
   "cell_type": "code",
   "execution_count": 41,
   "metadata": {},
   "outputs": [
    {
     "data": {
      "text/plain": [
       "[('Death Note', array([ 29.107496, -57.794315], dtype=float32)),\n",
       " ('Sen to Chihiro no Kamikakushi',\n",
       "  array([ 26.314522, -51.629276], dtype=float32)),\n",
       " ('Code Geass: Hangyaku no Lelouch R2',\n",
       "  array([ 30.075172, -58.00462 ], dtype=float32)),\n",
       " ('Shingeki no Kyojin', array([-66.72756  ,   0.7685507], dtype=float32)),\n",
       " ('One Punch Man', array([-68.08607   ,  -0.22375347], dtype=float32)),\n",
       " ('Howl no Ugoku Shiro', array([ 26.310244, -51.4448  ], dtype=float32)),\n",
       " ('Kimi no Na wa.', array([-69.063515 ,  -0.5619676], dtype=float32)),\n",
       " ('Fullmetal Alchemist: Brotherhood',\n",
       "  array([ 30.196434, -58.103226], dtype=float32)),\n",
       " ('Haikyuu!!: Karasuno Koukou VS Shiratorizawa Gakuen Koukou',\n",
       "  array([-69.24963  ,  -1.0397582], dtype=float32)),\n",
       " ('Code Geass: Hangyaku no Lelouch',\n",
       "  array([ 30.34155, -57.96043], dtype=float32))]"
      ]
     },
     "execution_count": 41,
     "metadata": {},
     "output_type": "execute_result"
    }
   ],
   "source": [
    "[(anime_titles[idx2anime[x]], anime_emb_enc_tsne[x]) for x in top_anime[:10]]"
   ]
  },
  {
   "cell_type": "code",
   "execution_count": null,
   "metadata": {},
   "outputs": [],
   "source": []
  },
  {
   "cell_type": "code",
   "execution_count": 42,
   "metadata": {},
   "outputs": [],
   "source": [
    "all_anime_sorted_by_feat = {}\n",
    "for i in range(condensed_latent_features):\n",
    "    feature = anime_emb_enc[i]\n",
    "    anime_comp = [{'score': float(f), 'title': anime_titles[anime[i]]} for f,i in zip(feature, top_anime)]\n",
    "    anime_sorted_by_feature = sorted(anime_comp, key=lambda x: x['score'], reverse=True)\n",
    "    all_anime_sorted_by_feat[i] = pd.merge(\n",
    "        anime_df[anime_info_cols + ['genre']],\n",
    "        pd.DataFrame(anime_sorted_by_feature),\n",
    "        how='inner',\n",
    "        on='title'\n",
    "    ).sort_values(by='score').fillna('-').to_dict(orient='records')\n",
    "    with open('{}/{}_condensed_latent_feature_{}.json'.format(feat_dir_name, NUM_RATINGS, i), 'w') as fp:\n",
    "        json.dump(all_anime_sorted_by_feat[i], fp)"
   ]
  },
  {
   "cell_type": "code",
   "execution_count": null,
   "metadata": {},
   "outputs": [],
   "source": []
  },
  {
   "cell_type": "code",
   "execution_count": 43,
   "metadata": {},
   "outputs": [],
   "source": [
    "def display_sorted_anime_top_bottom_n(idx, topn=5):\n",
    "    records = []\n",
    "    print(\"Latent Feature {}\".format(idx))\n",
    "    records.extend([{'title': r['title'], 'score': r['score']} for r in all_anime_sorted_by_feat[idx][:5]])\n",
    "    records.extend([{'title': r['title'], 'score': r['score']} for r in all_anime_sorted_by_feat[idx][-5:]])\n",
    "    return pd.DataFrame(records).sort_values(by='score', ascending=False)"
   ]
  },
  {
   "cell_type": "code",
   "execution_count": 33,
   "metadata": {},
   "outputs": [
    {
     "name": "stdout",
     "output_type": "stream",
     "text": [
      "Latent Feature 0\n"
     ]
    },
    {
     "data": {
      "text/html": [
       "<div>\n",
       "<style scoped>\n",
       "    .dataframe tbody tr th:only-of-type {\n",
       "        vertical-align: middle;\n",
       "    }\n",
       "\n",
       "    .dataframe tbody tr th {\n",
       "        vertical-align: top;\n",
       "    }\n",
       "\n",
       "    .dataframe thead th {\n",
       "        text-align: right;\n",
       "    }\n",
       "</style>\n",
       "<table border=\"1\" class=\"dataframe\">\n",
       "  <thead>\n",
       "    <tr style=\"text-align: right;\">\n",
       "      <th></th>\n",
       "      <th>score</th>\n",
       "      <th>title</th>\n",
       "    </tr>\n",
       "  </thead>\n",
       "  <tbody>\n",
       "    <tr>\n",
       "      <th>9</th>\n",
       "      <td>0.042226</td>\n",
       "      <td>Gakuen Tokusou Hikaruon</td>\n",
       "    </tr>\n",
       "    <tr>\n",
       "      <th>8</th>\n",
       "      <td>0.042124</td>\n",
       "      <td>Urusei Yatsura: The Shougaibutsu Suieitaikai</td>\n",
       "    </tr>\n",
       "    <tr>\n",
       "      <th>7</th>\n",
       "      <td>0.041689</td>\n",
       "      <td>Kindaichi Shounen no Jikenbo Specials</td>\n",
       "    </tr>\n",
       "    <tr>\n",
       "      <th>6</th>\n",
       "      <td>0.041456</td>\n",
       "      <td>Cobra The Animation</td>\n",
       "    </tr>\n",
       "    <tr>\n",
       "      <th>5</th>\n",
       "      <td>0.041279</td>\n",
       "      <td>Juubee-chan 2: Siberia Yagyuu no Gyakushuu</td>\n",
       "    </tr>\n",
       "    <tr>\n",
       "      <th>4</th>\n",
       "      <td>-0.056661</td>\n",
       "      <td>Noragami Aragoto</td>\n",
       "    </tr>\n",
       "    <tr>\n",
       "      <th>3</th>\n",
       "      <td>-0.058290</td>\n",
       "      <td>Suisei no Gargantia</td>\n",
       "    </tr>\n",
       "    <tr>\n",
       "      <th>2</th>\n",
       "      <td>-0.058439</td>\n",
       "      <td>Ore no Imouto ga Konnani Kawaii Wake ga Nai Sp...</td>\n",
       "    </tr>\n",
       "    <tr>\n",
       "      <th>1</th>\n",
       "      <td>-0.062340</td>\n",
       "      <td>Hajime no Ippo: Boxer no Kobushi</td>\n",
       "    </tr>\n",
       "    <tr>\n",
       "      <th>0</th>\n",
       "      <td>-0.062741</td>\n",
       "      <td>Naruto: Shippuuden</td>\n",
       "    </tr>\n",
       "  </tbody>\n",
       "</table>\n",
       "</div>"
      ],
      "text/plain": [
       "      score                                              title\n",
       "9  0.042226                            Gakuen Tokusou Hikaruon\n",
       "8  0.042124       Urusei Yatsura: The Shougaibutsu Suieitaikai\n",
       "7  0.041689              Kindaichi Shounen no Jikenbo Specials\n",
       "6  0.041456                                Cobra The Animation\n",
       "5  0.041279         Juubee-chan 2: Siberia Yagyuu no Gyakushuu\n",
       "4 -0.056661                                   Noragami Aragoto\n",
       "3 -0.058290                                Suisei no Gargantia\n",
       "2 -0.058439  Ore no Imouto ga Konnani Kawaii Wake ga Nai Sp...\n",
       "1 -0.062340                   Hajime no Ippo: Boxer no Kobushi\n",
       "0 -0.062741                                 Naruto: Shippuuden"
      ]
     },
     "execution_count": 33,
     "metadata": {},
     "output_type": "execute_result"
    }
   ],
   "source": [
    "display_sorted_anime_top_bottom_n(0)"
   ]
  },
  {
   "cell_type": "code",
   "execution_count": null,
   "metadata": {},
   "outputs": [],
   "source": []
  },
  {
   "cell_type": "code",
   "execution_count": 34,
   "metadata": {},
   "outputs": [
    {
     "name": "stdout",
     "output_type": "stream",
     "text": [
      "Latent Feature 1\n"
     ]
    },
    {
     "data": {
      "text/html": [
       "<div>\n",
       "<style scoped>\n",
       "    .dataframe tbody tr th:only-of-type {\n",
       "        vertical-align: middle;\n",
       "    }\n",
       "\n",
       "    .dataframe tbody tr th {\n",
       "        vertical-align: top;\n",
       "    }\n",
       "\n",
       "    .dataframe thead th {\n",
       "        text-align: right;\n",
       "    }\n",
       "</style>\n",
       "<table border=\"1\" class=\"dataframe\">\n",
       "  <thead>\n",
       "    <tr style=\"text-align: right;\">\n",
       "      <th></th>\n",
       "      <th>score</th>\n",
       "      <th>title</th>\n",
       "    </tr>\n",
       "  </thead>\n",
       "  <tbody>\n",
       "    <tr>\n",
       "      <th>9</th>\n",
       "      <td>0.028663</td>\n",
       "      <td>Full Metal Panic? Fumoffu</td>\n",
       "    </tr>\n",
       "    <tr>\n",
       "      <th>8</th>\n",
       "      <td>0.028603</td>\n",
       "      <td>Amagi Brilliant Park: Nonbirishiteiru Hima ga ...</td>\n",
       "    </tr>\n",
       "    <tr>\n",
       "      <th>7</th>\n",
       "      <td>0.028308</td>\n",
       "      <td>Final Fantasy VII: Advent Children</td>\n",
       "    </tr>\n",
       "    <tr>\n",
       "      <th>6</th>\n",
       "      <td>0.028305</td>\n",
       "      <td>Sora no Otoshimono: Tokeijikake no Angeloid</td>\n",
       "    </tr>\n",
       "    <tr>\n",
       "      <th>5</th>\n",
       "      <td>0.028137</td>\n",
       "      <td>Detective Conan Movie 06: The Phantom of Baker...</td>\n",
       "    </tr>\n",
       "    <tr>\n",
       "      <th>4</th>\n",
       "      <td>-0.034712</td>\n",
       "      <td>Gochuumon wa Usagi desu ka??</td>\n",
       "    </tr>\n",
       "    <tr>\n",
       "      <th>3</th>\n",
       "      <td>-0.034928</td>\n",
       "      <td>Nisemonogatari</td>\n",
       "    </tr>\n",
       "    <tr>\n",
       "      <th>2</th>\n",
       "      <td>-0.037041</td>\n",
       "      <td>Metropolis</td>\n",
       "    </tr>\n",
       "    <tr>\n",
       "      <th>1</th>\n",
       "      <td>-0.037202</td>\n",
       "      <td>Gatchaman Crowds Insight</td>\n",
       "    </tr>\n",
       "    <tr>\n",
       "      <th>0</th>\n",
       "      <td>-0.040775</td>\n",
       "      <td>Cowboy Bebop</td>\n",
       "    </tr>\n",
       "  </tbody>\n",
       "</table>\n",
       "</div>"
      ],
      "text/plain": [
       "      score                                              title\n",
       "9  0.028663                          Full Metal Panic? Fumoffu\n",
       "8  0.028603  Amagi Brilliant Park: Nonbirishiteiru Hima ga ...\n",
       "7  0.028308                 Final Fantasy VII: Advent Children\n",
       "6  0.028305        Sora no Otoshimono: Tokeijikake no Angeloid\n",
       "5  0.028137  Detective Conan Movie 06: The Phantom of Baker...\n",
       "4 -0.034712                       Gochuumon wa Usagi desu ka??\n",
       "3 -0.034928                                     Nisemonogatari\n",
       "2 -0.037041                                         Metropolis\n",
       "1 -0.037202                           Gatchaman Crowds Insight\n",
       "0 -0.040775                                       Cowboy Bebop"
      ]
     },
     "execution_count": 34,
     "metadata": {},
     "output_type": "execute_result"
    }
   ],
   "source": [
    "display_sorted_anime_top_bottom_n(1)"
   ]
  },
  {
   "cell_type": "code",
   "execution_count": 35,
   "metadata": {},
   "outputs": [
    {
     "name": "stdout",
     "output_type": "stream",
     "text": [
      "Latent Feature 2\n"
     ]
    },
    {
     "data": {
      "text/html": [
       "<div>\n",
       "<style scoped>\n",
       "    .dataframe tbody tr th:only-of-type {\n",
       "        vertical-align: middle;\n",
       "    }\n",
       "\n",
       "    .dataframe tbody tr th {\n",
       "        vertical-align: top;\n",
       "    }\n",
       "\n",
       "    .dataframe thead th {\n",
       "        text-align: right;\n",
       "    }\n",
       "</style>\n",
       "<table border=\"1\" class=\"dataframe\">\n",
       "  <thead>\n",
       "    <tr style=\"text-align: right;\">\n",
       "      <th></th>\n",
       "      <th>score</th>\n",
       "      <th>title</th>\n",
       "    </tr>\n",
       "  </thead>\n",
       "  <tbody>\n",
       "    <tr>\n",
       "      <th>9</th>\n",
       "      <td>0.044868</td>\n",
       "      <td>JoJo no Kimyou na Bouken: Stardust Crusaders</td>\n",
       "    </tr>\n",
       "    <tr>\n",
       "      <th>8</th>\n",
       "      <td>0.042611</td>\n",
       "      <td>Rosario to Vampire Capu2</td>\n",
       "    </tr>\n",
       "    <tr>\n",
       "      <th>7</th>\n",
       "      <td>0.040249</td>\n",
       "      <td>Crayon Shin-chan</td>\n",
       "    </tr>\n",
       "    <tr>\n",
       "      <th>6</th>\n",
       "      <td>0.040227</td>\n",
       "      <td>Yowamushi Pedal: Special Ride</td>\n",
       "    </tr>\n",
       "    <tr>\n",
       "      <th>5</th>\n",
       "      <td>0.039725</td>\n",
       "      <td>Highschool of the Dead</td>\n",
       "    </tr>\n",
       "    <tr>\n",
       "      <th>4</th>\n",
       "      <td>-0.030886</td>\n",
       "      <td>Amaenaide yo!!</td>\n",
       "    </tr>\n",
       "    <tr>\n",
       "      <th>3</th>\n",
       "      <td>-0.031227</td>\n",
       "      <td>Isekai no Seikishi Monogatari</td>\n",
       "    </tr>\n",
       "    <tr>\n",
       "      <th>2</th>\n",
       "      <td>-0.032082</td>\n",
       "      <td>Gravitation</td>\n",
       "    </tr>\n",
       "    <tr>\n",
       "      <th>1</th>\n",
       "      <td>-0.032119</td>\n",
       "      <td>Mobile Suit Gundam SEED Destiny Final Plus: Th...</td>\n",
       "    </tr>\n",
       "    <tr>\n",
       "      <th>0</th>\n",
       "      <td>-0.032792</td>\n",
       "      <td>Slayers Revolution</td>\n",
       "    </tr>\n",
       "  </tbody>\n",
       "</table>\n",
       "</div>"
      ],
      "text/plain": [
       "      score                                              title\n",
       "9  0.044868       JoJo no Kimyou na Bouken: Stardust Crusaders\n",
       "8  0.042611                           Rosario to Vampire Capu2\n",
       "7  0.040249                                   Crayon Shin-chan\n",
       "6  0.040227                      Yowamushi Pedal: Special Ride\n",
       "5  0.039725                             Highschool of the Dead\n",
       "4 -0.030886                                     Amaenaide yo!!\n",
       "3 -0.031227                      Isekai no Seikishi Monogatari\n",
       "2 -0.032082                                        Gravitation\n",
       "1 -0.032119  Mobile Suit Gundam SEED Destiny Final Plus: Th...\n",
       "0 -0.032792                                 Slayers Revolution"
      ]
     },
     "execution_count": 35,
     "metadata": {},
     "output_type": "execute_result"
    }
   ],
   "source": [
    "display_sorted_anime_top_bottom_n(2)"
   ]
  },
  {
   "cell_type": "code",
   "execution_count": 36,
   "metadata": {},
   "outputs": [
    {
     "name": "stdout",
     "output_type": "stream",
     "text": [
      "Latent Feature 3\n"
     ]
    },
    {
     "data": {
      "text/html": [
       "<div>\n",
       "<style scoped>\n",
       "    .dataframe tbody tr th:only-of-type {\n",
       "        vertical-align: middle;\n",
       "    }\n",
       "\n",
       "    .dataframe tbody tr th {\n",
       "        vertical-align: top;\n",
       "    }\n",
       "\n",
       "    .dataframe thead th {\n",
       "        text-align: right;\n",
       "    }\n",
       "</style>\n",
       "<table border=\"1\" class=\"dataframe\">\n",
       "  <thead>\n",
       "    <tr style=\"text-align: right;\">\n",
       "      <th></th>\n",
       "      <th>score</th>\n",
       "      <th>title</th>\n",
       "    </tr>\n",
       "  </thead>\n",
       "  <tbody>\n",
       "    <tr>\n",
       "      <th>9</th>\n",
       "      <td>0.050494</td>\n",
       "      <td>Pokemon Best Wishes! Season 2: Kyurem vs. Seik...</td>\n",
       "    </tr>\n",
       "    <tr>\n",
       "      <th>8</th>\n",
       "      <td>0.049575</td>\n",
       "      <td>Kara no Kyoukai 1: Fukan Fuukei</td>\n",
       "    </tr>\n",
       "    <tr>\n",
       "      <th>7</th>\n",
       "      <td>0.049379</td>\n",
       "      <td>Dragon Ball Kai (2014)</td>\n",
       "    </tr>\n",
       "    <tr>\n",
       "      <th>6</th>\n",
       "      <td>0.048040</td>\n",
       "      <td>Yuu☆Yuu☆Hakusho: Eizou Hakusho II</td>\n",
       "    </tr>\n",
       "    <tr>\n",
       "      <th>5</th>\n",
       "      <td>0.047803</td>\n",
       "      <td>Gintama.</td>\n",
       "    </tr>\n",
       "    <tr>\n",
       "      <th>4</th>\n",
       "      <td>-0.040050</td>\n",
       "      <td>Detective Conan Movie 13: The Raven Chaser</td>\n",
       "    </tr>\n",
       "    <tr>\n",
       "      <th>3</th>\n",
       "      <td>-0.040069</td>\n",
       "      <td>Natsu-iro Egao de 1, 2, Jump!</td>\n",
       "    </tr>\n",
       "    <tr>\n",
       "      <th>2</th>\n",
       "      <td>-0.042178</td>\n",
       "      <td>Code Geass: Hangyaku no Lelouch</td>\n",
       "    </tr>\n",
       "    <tr>\n",
       "      <th>1</th>\n",
       "      <td>-0.042972</td>\n",
       "      <td>One Piece: Episode of Nami - Koukaishi no Nami...</td>\n",
       "    </tr>\n",
       "    <tr>\n",
       "      <th>0</th>\n",
       "      <td>-0.045050</td>\n",
       "      <td>Fullmetal Alchemist</td>\n",
       "    </tr>\n",
       "  </tbody>\n",
       "</table>\n",
       "</div>"
      ],
      "text/plain": [
       "      score                                              title\n",
       "9  0.050494  Pokemon Best Wishes! Season 2: Kyurem vs. Seik...\n",
       "8  0.049575                    Kara no Kyoukai 1: Fukan Fuukei\n",
       "7  0.049379                             Dragon Ball Kai (2014)\n",
       "6  0.048040                  Yuu☆Yuu☆Hakusho: Eizou Hakusho II\n",
       "5  0.047803                                           Gintama.\n",
       "4 -0.040050         Detective Conan Movie 13: The Raven Chaser\n",
       "3 -0.040069                      Natsu-iro Egao de 1, 2, Jump!\n",
       "2 -0.042178                    Code Geass: Hangyaku no Lelouch\n",
       "1 -0.042972  One Piece: Episode of Nami - Koukaishi no Nami...\n",
       "0 -0.045050                                Fullmetal Alchemist"
      ]
     },
     "execution_count": 36,
     "metadata": {},
     "output_type": "execute_result"
    }
   ],
   "source": [
    "display_sorted_anime_top_bottom_n(3)"
   ]
  },
  {
   "cell_type": "code",
   "execution_count": 37,
   "metadata": {},
   "outputs": [
    {
     "name": "stdout",
     "output_type": "stream",
     "text": [
      "Latent Feature 4\n"
     ]
    },
    {
     "data": {
      "text/html": [
       "<div>\n",
       "<style scoped>\n",
       "    .dataframe tbody tr th:only-of-type {\n",
       "        vertical-align: middle;\n",
       "    }\n",
       "\n",
       "    .dataframe tbody tr th {\n",
       "        vertical-align: top;\n",
       "    }\n",
       "\n",
       "    .dataframe thead th {\n",
       "        text-align: right;\n",
       "    }\n",
       "</style>\n",
       "<table border=\"1\" class=\"dataframe\">\n",
       "  <thead>\n",
       "    <tr style=\"text-align: right;\">\n",
       "      <th></th>\n",
       "      <th>score</th>\n",
       "      <th>title</th>\n",
       "    </tr>\n",
       "  </thead>\n",
       "  <tbody>\n",
       "    <tr>\n",
       "      <th>9</th>\n",
       "      <td>0.048872</td>\n",
       "      <td>Love Stage!!</td>\n",
       "    </tr>\n",
       "    <tr>\n",
       "      <th>8</th>\n",
       "      <td>0.044441</td>\n",
       "      <td>Slayers Evolution-R</td>\n",
       "    </tr>\n",
       "    <tr>\n",
       "      <th>7</th>\n",
       "      <td>0.043818</td>\n",
       "      <td>Isshuukan Friends. Specials</td>\n",
       "    </tr>\n",
       "    <tr>\n",
       "      <th>6</th>\n",
       "      <td>0.042250</td>\n",
       "      <td>Tantei Opera Milky Holmes Dai 2 Maku</td>\n",
       "    </tr>\n",
       "    <tr>\n",
       "      <th>5</th>\n",
       "      <td>0.041469</td>\n",
       "      <td>Kishin Houkou Demonbane (TV)</td>\n",
       "    </tr>\n",
       "    <tr>\n",
       "      <th>4</th>\n",
       "      <td>-0.045650</td>\n",
       "      <td>Dakara Boku wa, H ga Dekinai. OVA</td>\n",
       "    </tr>\n",
       "    <tr>\n",
       "      <th>3</th>\n",
       "      <td>-0.045821</td>\n",
       "      <td>Initial D Second Stage</td>\n",
       "    </tr>\n",
       "    <tr>\n",
       "      <th>2</th>\n",
       "      <td>-0.048783</td>\n",
       "      <td>Tengen Toppa Gurren Lagann</td>\n",
       "    </tr>\n",
       "    <tr>\n",
       "      <th>1</th>\n",
       "      <td>-0.048936</td>\n",
       "      <td>Nisemonogatari</td>\n",
       "    </tr>\n",
       "    <tr>\n",
       "      <th>0</th>\n",
       "      <td>-0.051471</td>\n",
       "      <td>Inazuma Eleven</td>\n",
       "    </tr>\n",
       "  </tbody>\n",
       "</table>\n",
       "</div>"
      ],
      "text/plain": [
       "      score                                 title\n",
       "9  0.048872                          Love Stage!!\n",
       "8  0.044441                   Slayers Evolution-R\n",
       "7  0.043818           Isshuukan Friends. Specials\n",
       "6  0.042250  Tantei Opera Milky Holmes Dai 2 Maku\n",
       "5  0.041469          Kishin Houkou Demonbane (TV)\n",
       "4 -0.045650     Dakara Boku wa, H ga Dekinai. OVA\n",
       "3 -0.045821                Initial D Second Stage\n",
       "2 -0.048783            Tengen Toppa Gurren Lagann\n",
       "1 -0.048936                        Nisemonogatari\n",
       "0 -0.051471                        Inazuma Eleven"
      ]
     },
     "execution_count": 37,
     "metadata": {},
     "output_type": "execute_result"
    }
   ],
   "source": [
    "display_sorted_anime_top_bottom_n(4)"
   ]
  },
  {
   "cell_type": "code",
   "execution_count": 52,
   "metadata": {},
   "outputs": [
    {
     "data": {
      "text/plain": [
       "(50, 2)"
      ]
     },
     "execution_count": 52,
     "metadata": {},
     "output_type": "execute_result"
    }
   ],
   "source": [
    "anime_emb_enc_tsne.shape"
   ]
  },
  {
   "cell_type": "code",
   "execution_count": null,
   "metadata": {},
   "outputs": [],
   "source": [
    "def generate_plot_for_top_n_anime(x_emb, y_emb, topn=None, top_anime=top_anime, figsize=(20, 20), plot=True):\n",
    "    anime_plots = []\n",
    "    topn = len(top_anime) if topn is None else topn\n",
    "    X = x_emb[:topn]\n",
    "    Y = y_emb[:topn]\n",
    "    if plot:\n",
    "        plt.figure(figsize=figsize)\n",
    "        plt.scatter(X, Y)\n",
    "    \n",
    "    for i, x, y in zip(top_anime[:topn], X, Y):\n",
    "        anime_plots.append([anime_titles[anime[i]], x, y])\n",
    "        if plot:\n",
    "            plt.text(x,y, anime_titles[anime[i]], color=np.random.rand(3)*0.7, fontsize=14)\n",
    "    if plot:\n",
    "        plt.show()\n",
    "    return anime_plots\n",
    "    \n",
    "anime_topn = generate_plot_for_top_n_anime(x_emb=anime_emb_enc[0], y_emb=anime_emb_enc[1], topn=50, plot=True)"
   ]
  },
  {
   "cell_type": "code",
   "execution_count": null,
   "metadata": {},
   "outputs": [],
   "source": []
  },
  {
   "cell_type": "code",
   "execution_count": 139,
   "metadata": {},
   "outputs": [
    {
     "name": "stderr",
     "output_type": "stream",
     "text": [
      "100%|██████████| 10/10 [01:09<00:00,  6.94s/it]\n"
     ]
    }
   ],
   "source": [
    "# from itertools import combinations\n",
    "# from scipy.spatial import distance\n",
    "\n",
    "# for feat1_idx, feat2_idx in tqdm(list(combinations(range(condensed_latent_features), 2))):\n",
    "#     feat1 = anime_emb_enc[feat1_idx]\n",
    "#     feat2 = anime_emb_enc[feat2_idx]\n",
    "#     anime_all = generate_plot_for_top_n_anime(\n",
    "#         x_emb=feat1, y_emb=feat2, topn=None, plot=False\n",
    "#     )\n",
    "#     pairwise_anime_distance = []\n",
    "#     for anime1 in anime_all:\n",
    "#         for anime2 in anime_topn:\n",
    "#             if anime1[0] != anime2[0]:\n",
    "#                 pairwise_anime_distance.append([\n",
    "#                         anime1[0], anime2[0], distance.euclidean(\n",
    "#                             (anime1[1], anime1[2]), (anime2[1], anime2[2])\n",
    "#                         )\n",
    "#                 ])\n",
    "#     with open('{}/{}_pairwise_dist-{}-{}.json'.format(feat_dir_name, NUM_RATINGS, feat1_idx, feat2_idx), 'w') as fp:\n",
    "#         json.dump(pairwise_anime_distance, fp)"
   ]
  },
  {
   "cell_type": "code",
   "execution_count": 44,
   "metadata": {},
   "outputs": [
    {
     "name": "stderr",
     "output_type": "stream",
     "text": [
      "  1%|          | 53/6668 [00:08<17:00,  6.48it/s]\n"
     ]
    },
    {
     "ename": "KeyboardInterrupt",
     "evalue": "",
     "output_type": "error",
     "traceback": [
      "\u001b[0;31m---------------------------------------------------------------------------\u001b[0m",
      "\u001b[0;31mKeyboardInterrupt\u001b[0m                         Traceback (most recent call last)",
      "\u001b[0;32m<ipython-input-44-1aab7d467d55>\u001b[0m in \u001b[0;36m<module>\u001b[0;34m\u001b[0m\n\u001b[1;32m     15\u001b[0m             \u001b[0manime2_features\u001b[0m \u001b[0;34m=\u001b[0m \u001b[0;34m[\u001b[0m\u001b[0manime_emb_enc\u001b[0m\u001b[0;34m[\u001b[0m\u001b[0mi\u001b[0m\u001b[0;34m]\u001b[0m\u001b[0;34m[\u001b[0m\u001b[0manime2_idx\u001b[0m\u001b[0;34m]\u001b[0m \u001b[0;32mfor\u001b[0m \u001b[0mi\u001b[0m \u001b[0;32min\u001b[0m \u001b[0mrange\u001b[0m\u001b[0;34m(\u001b[0m\u001b[0mcondensed_latent_features\u001b[0m\u001b[0;34m)\u001b[0m\u001b[0;34m]\u001b[0m\u001b[0;34m\u001b[0m\u001b[0m\n\u001b[1;32m     16\u001b[0m             euc_distance = distance.euclidean(\n\u001b[0;32m---> 17\u001b[0;31m                 \u001b[0manime1_features\u001b[0m\u001b[0;34m,\u001b[0m \u001b[0manime2_features\u001b[0m\u001b[0;34m\u001b[0m\u001b[0m\n\u001b[0m\u001b[1;32m     18\u001b[0m             )\n\u001b[1;32m     19\u001b[0m             \u001b[0;32mif\u001b[0m \u001b[0meuc_distance\u001b[0m \u001b[0;34m<\u001b[0m \u001b[0mthreshold\u001b[0m\u001b[0;34m:\u001b[0m\u001b[0;34m\u001b[0m\u001b[0m\n",
      "\u001b[0;32m~/learn/datascience/kaggle/animelist/venv/lib/python3.5/site-packages/scipy/spatial/distance.py\u001b[0m in \u001b[0;36meuclidean\u001b[0;34m(u, v, w)\u001b[0m\n\u001b[1;32m    600\u001b[0m \u001b[0;34m\u001b[0m\u001b[0m\n\u001b[1;32m    601\u001b[0m     \"\"\"\n\u001b[0;32m--> 602\u001b[0;31m     \u001b[0;32mreturn\u001b[0m \u001b[0mminkowski\u001b[0m\u001b[0;34m(\u001b[0m\u001b[0mu\u001b[0m\u001b[0;34m,\u001b[0m \u001b[0mv\u001b[0m\u001b[0;34m,\u001b[0m \u001b[0mp\u001b[0m\u001b[0;34m=\u001b[0m\u001b[0;36m2\u001b[0m\u001b[0;34m,\u001b[0m \u001b[0mw\u001b[0m\u001b[0;34m=\u001b[0m\u001b[0mw\u001b[0m\u001b[0;34m)\u001b[0m\u001b[0;34m\u001b[0m\u001b[0m\n\u001b[0m\u001b[1;32m    603\u001b[0m \u001b[0;34m\u001b[0m\u001b[0m\n\u001b[1;32m    604\u001b[0m \u001b[0;34m\u001b[0m\u001b[0m\n",
      "\u001b[0;32m~/learn/datascience/kaggle/animelist/venv/lib/python3.5/site-packages/scipy/spatial/distance.py\u001b[0m in \u001b[0;36mminkowski\u001b[0;34m(u, v, p, w)\u001b[0m\n\u001b[1;32m    503\u001b[0m             \u001b[0mroot_w\u001b[0m \u001b[0;34m=\u001b[0m \u001b[0mnp\u001b[0m\u001b[0;34m.\u001b[0m\u001b[0mpower\u001b[0m\u001b[0;34m(\u001b[0m\u001b[0mw\u001b[0m\u001b[0;34m,\u001b[0m \u001b[0;36m1\u001b[0m\u001b[0;34m/\u001b[0m\u001b[0mp\u001b[0m\u001b[0;34m)\u001b[0m\u001b[0;34m\u001b[0m\u001b[0m\n\u001b[1;32m    504\u001b[0m         \u001b[0mu_v\u001b[0m \u001b[0;34m=\u001b[0m \u001b[0mroot_w\u001b[0m \u001b[0;34m*\u001b[0m \u001b[0mu_v\u001b[0m\u001b[0;34m\u001b[0m\u001b[0m\n\u001b[0;32m--> 505\u001b[0;31m     \u001b[0mdist\u001b[0m \u001b[0;34m=\u001b[0m \u001b[0mnorm\u001b[0m\u001b[0;34m(\u001b[0m\u001b[0mu_v\u001b[0m\u001b[0;34m,\u001b[0m \u001b[0mord\u001b[0m\u001b[0;34m=\u001b[0m\u001b[0mp\u001b[0m\u001b[0;34m)\u001b[0m\u001b[0;34m\u001b[0m\u001b[0m\n\u001b[0m\u001b[1;32m    506\u001b[0m     \u001b[0;32mreturn\u001b[0m \u001b[0mdist\u001b[0m\u001b[0;34m\u001b[0m\u001b[0m\n\u001b[1;32m    507\u001b[0m \u001b[0;34m\u001b[0m\u001b[0m\n",
      "\u001b[0;32m~/learn/datascience/kaggle/animelist/venv/lib/python3.5/site-packages/scipy/linalg/misc.py\u001b[0m in \u001b[0;36mnorm\u001b[0;34m(a, ord, axis, keepdims)\u001b[0m\n\u001b[1;32m    142\u001b[0m         \u001b[0;32mif\u001b[0m \u001b[0mord\u001b[0m \u001b[0;32min\u001b[0m \u001b[0;34m(\u001b[0m\u001b[0;32mNone\u001b[0m\u001b[0;34m,\u001b[0m \u001b[0;36m2\u001b[0m\u001b[0;34m)\u001b[0m \u001b[0;32mand\u001b[0m \u001b[0;34m(\u001b[0m\u001b[0ma\u001b[0m\u001b[0;34m.\u001b[0m\u001b[0mndim\u001b[0m \u001b[0;34m==\u001b[0m \u001b[0;36m1\u001b[0m\u001b[0;34m)\u001b[0m\u001b[0;34m:\u001b[0m\u001b[0;34m\u001b[0m\u001b[0m\n\u001b[1;32m    143\u001b[0m             \u001b[0;31m# use blas for fast and stable euclidean norm\u001b[0m\u001b[0;34m\u001b[0m\u001b[0;34m\u001b[0m\u001b[0m\n\u001b[0;32m--> 144\u001b[0;31m             \u001b[0mnrm2\u001b[0m \u001b[0;34m=\u001b[0m \u001b[0mget_blas_funcs\u001b[0m\u001b[0;34m(\u001b[0m\u001b[0;34m'nrm2'\u001b[0m\u001b[0;34m,\u001b[0m \u001b[0mdtype\u001b[0m\u001b[0;34m=\u001b[0m\u001b[0ma\u001b[0m\u001b[0;34m.\u001b[0m\u001b[0mdtype\u001b[0m\u001b[0;34m)\u001b[0m\u001b[0;34m\u001b[0m\u001b[0m\n\u001b[0m\u001b[1;32m    145\u001b[0m             \u001b[0;32mreturn\u001b[0m \u001b[0mnrm2\u001b[0m\u001b[0;34m(\u001b[0m\u001b[0ma\u001b[0m\u001b[0;34m)\u001b[0m\u001b[0;34m\u001b[0m\u001b[0m\n\u001b[1;32m    146\u001b[0m \u001b[0;34m\u001b[0m\u001b[0m\n",
      "\u001b[0;32m~/learn/datascience/kaggle/animelist/venv/lib/python3.5/site-packages/scipy/linalg/blas.py\u001b[0m in \u001b[0;36mget_blas_funcs\u001b[0;34m(names, arrays, dtype)\u001b[0m\n\u001b[1;32m    393\u001b[0m     return _get_funcs(names, arrays, dtype,\n\u001b[1;32m    394\u001b[0m                       \u001b[0;34m\"BLAS\"\u001b[0m\u001b[0;34m,\u001b[0m \u001b[0m_fblas\u001b[0m\u001b[0;34m,\u001b[0m \u001b[0m_cblas\u001b[0m\u001b[0;34m,\u001b[0m \u001b[0;34m\"fblas\"\u001b[0m\u001b[0;34m,\u001b[0m \u001b[0;34m\"cblas\"\u001b[0m\u001b[0;34m,\u001b[0m\u001b[0;34m\u001b[0m\u001b[0m\n\u001b[0;32m--> 395\u001b[0;31m                       _blas_alias)\n\u001b[0m",
      "\u001b[0;32m~/learn/datascience/kaggle/animelist/venv/lib/python3.5/site-packages/scipy/linalg/blas.py\u001b[0m in \u001b[0;36m_get_funcs\u001b[0;34m(names, arrays, dtype, lib_name, fmodule, cmodule, fmodule_name, cmodule_name, alias)\u001b[0m\n\u001b[1;32m    323\u001b[0m         \u001b[0mfunc_name\u001b[0m \u001b[0;34m=\u001b[0m \u001b[0malias\u001b[0m\u001b[0;34m.\u001b[0m\u001b[0mget\u001b[0m\u001b[0;34m(\u001b[0m\u001b[0mfunc_name\u001b[0m\u001b[0;34m,\u001b[0m \u001b[0mfunc_name\u001b[0m\u001b[0;34m)\u001b[0m\u001b[0;34m\u001b[0m\u001b[0m\n\u001b[1;32m    324\u001b[0m         \u001b[0mfunc\u001b[0m \u001b[0;34m=\u001b[0m \u001b[0mgetattr\u001b[0m\u001b[0;34m(\u001b[0m\u001b[0mmodule1\u001b[0m\u001b[0;34m[\u001b[0m\u001b[0;36m0\u001b[0m\u001b[0;34m]\u001b[0m\u001b[0;34m,\u001b[0m \u001b[0mfunc_name\u001b[0m\u001b[0;34m,\u001b[0m \u001b[0;32mNone\u001b[0m\u001b[0;34m)\u001b[0m\u001b[0;34m\u001b[0m\u001b[0m\n\u001b[0;32m--> 325\u001b[0;31m         \u001b[0mmodule_name\u001b[0m \u001b[0;34m=\u001b[0m \u001b[0mmodule1\u001b[0m\u001b[0;34m[\u001b[0m\u001b[0;36m1\u001b[0m\u001b[0;34m]\u001b[0m\u001b[0;34m\u001b[0m\u001b[0m\n\u001b[0m\u001b[1;32m    326\u001b[0m         \u001b[0;32mif\u001b[0m \u001b[0mfunc\u001b[0m \u001b[0;32mis\u001b[0m \u001b[0;32mNone\u001b[0m\u001b[0;34m:\u001b[0m\u001b[0;34m\u001b[0m\u001b[0m\n\u001b[1;32m    327\u001b[0m             \u001b[0mfunc\u001b[0m \u001b[0;34m=\u001b[0m \u001b[0mgetattr\u001b[0m\u001b[0;34m(\u001b[0m\u001b[0mmodule2\u001b[0m\u001b[0;34m[\u001b[0m\u001b[0;36m0\u001b[0m\u001b[0;34m]\u001b[0m\u001b[0;34m,\u001b[0m \u001b[0mfunc_name\u001b[0m\u001b[0;34m,\u001b[0m \u001b[0;32mNone\u001b[0m\u001b[0;34m)\u001b[0m\u001b[0;34m\u001b[0m\u001b[0m\n",
      "\u001b[0;31mKeyboardInterrupt\u001b[0m: "
     ]
    }
   ],
   "source": [
    "from scipy.spatial import distance\n",
    "anime_mapping_distances = []\n",
    "threshold = 0.01\n",
    "topn=10\n",
    "seen = set()\n",
    "for anime1_idx in tqdm(top_anime):\n",
    "    count = 0\n",
    "    l = []\n",
    "    for anime2_idx in top_anime:\n",
    "        if (anime2_idx not in seen) and (anime1_idx != anime2_idx):\n",
    "            seen.add(anime1_idx)\n",
    "            anime1 = anime_titles[anime[anime1_idx]]\n",
    "            anime2 = anime_titles[anime[anime2_idx]]\n",
    "            anime1_features = [anime_emb_enc[i][anime1_idx] for i in range(condensed_latent_features)]\n",
    "            anime2_features = [anime_emb_enc[i][anime2_idx] for i in range(condensed_latent_features)]\n",
    "            euc_distance = distance.euclidean(\n",
    "                anime1_features, anime2_features\n",
    "            )\n",
    "            if euc_distance < threshold:\n",
    "                l.append([anime1, anime2, euc_distance])\n",
    "    anime_mapping_distances.extend(sorted(l, key=lambda x: x[2])[:topn])\n",
    "with open('{}/{}_combined_dist_threshold-{}_topn-{}.json'.format(feat_dir_name, NUM_RATINGS, threshold, topn), 'w') as fp:\n",
    "    json.dump(anime_mapping_distances, fp)"
   ]
  },
  {
   "cell_type": "code",
   "execution_count": 53,
   "metadata": {},
   "outputs": [
    {
     "data": {
      "text/plain": [
       "6978982"
      ]
     },
     "execution_count": 53,
     "metadata": {},
     "output_type": "execute_result"
    }
   ],
   "source": [
    "len(anime_mapping_distances)"
   ]
  },
  {
   "cell_type": "code",
   "execution_count": null,
   "metadata": {},
   "outputs": [],
   "source": []
  },
  {
   "cell_type": "code",
   "execution_count": 74,
   "metadata": {},
   "outputs": [
    {
     "name": "stderr",
     "output_type": "stream",
     "text": [
      "100%|██████████| 6668/6668 [00:00<00:00, 849924.61it/s]\n",
      "100%|██████████| 49/49 [00:31<00:00,  1.01it/s]\n"
     ]
    },
    {
     "data": {
      "image/png": "[encoded data removed]",
      "text/plain": [
       "<Figure size 432x288 with 1 Axes>"
      ]
     },
     "metadata": {
      "needs_background": "light"
     },
     "output_type": "display_data"
    }
   ],
   "source": [
    "# from sklearn.datasets import load_iris\n",
    "# from sklearn.cluster import KMeans\n",
    "# import matplotlib.pyplot as plt\n",
    "\n",
    "# sse = {}\n",
    "# for k in tqdm(range(1, 50)):\n",
    "#     kmeans = KMeans(n_clusters=k, max_iter=1000).fit(data_tsne)\n",
    "# #     clusters[\"clusters\"] = kmeans.labels_\n",
    "#     #print(data[\"clusters\"])\n",
    "#     sse[k] = kmeans.inertia_ # Inertia: Sum of distances of samples to their closest cluster center\n",
    "# plt.figure()\n",
    "# plt.plot(list(sse.keys()), list(sse.values()))\n",
    "# plt.xlabel(\"Number of cluster\")\n",
    "# plt.ylabel(\"SSE\")\n",
    "# plt.show()"
   ]
  },
  {
   "cell_type": "code",
   "execution_count": 58,
   "metadata": {},
   "outputs": [
    {
     "name": "stderr",
     "output_type": "stream",
     "text": [
      "\n",
      "  0%|          | 0/99 [00:00<?, ?it/s]\u001b[A\n",
      "  2%|▏         | 2/99 [00:00<00:10,  9.44it/s]\u001b[A\n",
      "  3%|▎         | 3/99 [00:00<00:13,  7.16it/s]\u001b[A\n",
      "  4%|▍         | 4/99 [00:00<00:17,  5.53it/s]\u001b[A\n",
      "  5%|▌         | 5/99 [00:01<00:22,  4.26it/s]\u001b[A\n",
      "  6%|▌         | 6/99 [00:01<00:24,  3.83it/s]\u001b[A\n",
      "  7%|▋         | 7/99 [00:01<00:27,  3.30it/s]\u001b[A\n",
      "  8%|▊         | 8/99 [00:02<00:31,  2.92it/s]\u001b[A\n",
      "  9%|▉         | 9/99 [00:02<00:34,  2.64it/s]\u001b[A\n",
      " 10%|█         | 10/99 [00:03<00:38,  2.31it/s]\u001b[A\n",
      " 11%|█         | 11/99 [00:03<00:40,  2.19it/s]\u001b[A\n",
      " 12%|█▏        | 12/99 [00:04<00:43,  1.98it/s]\u001b[A\n",
      " 13%|█▎        | 13/99 [00:04<00:46,  1.86it/s]\u001b[A\n",
      " 14%|█▍        | 14/99 [00:05<00:49,  1.70it/s]\u001b[A\n",
      " 15%|█▌        | 15/99 [00:06<00:53,  1.57it/s]\u001b[A\n",
      " 16%|█▌        | 16/99 [00:07<00:53,  1.56it/s]\u001b[A\n",
      " 17%|█▋        | 17/99 [00:07<00:55,  1.48it/s]\u001b[A\n",
      " 18%|█▊        | 18/99 [00:08<00:57,  1.41it/s]\u001b[A\n",
      " 19%|█▉        | 19/99 [00:09<01:00,  1.33it/s]\u001b[A\n",
      " 20%|██        | 20/99 [00:10<01:00,  1.30it/s]\u001b[A\n",
      " 21%|██        | 21/99 [00:11<01:04,  1.21it/s]\u001b[A\n",
      " 22%|██▏       | 22/99 [00:12<01:10,  1.09it/s]\u001b[A\n",
      " 23%|██▎       | 23/99 [00:13<01:13,  1.04it/s]\u001b[A\n",
      " 24%|██▍       | 24/99 [00:14<01:13,  1.03it/s]\u001b[A\n",
      " 25%|██▌       | 25/99 [00:15<01:14,  1.01s/it]\u001b[A\n",
      " 26%|██▋       | 26/99 [00:16<01:15,  1.03s/it]\u001b[A\n",
      " 27%|██▋       | 27/99 [00:17<01:17,  1.08s/it]\u001b[A\n",
      " 28%|██▊       | 28/99 [00:19<01:18,  1.11s/it]\u001b[A\n",
      " 29%|██▉       | 29/99 [00:20<01:17,  1.10s/it]\u001b[A\n",
      " 30%|███       | 30/99 [00:21<01:18,  1.14s/it]\u001b[A\n",
      " 31%|███▏      | 31/99 [00:22<01:19,  1.16s/it]\u001b[A\n",
      " 32%|███▏      | 32/99 [00:23<01:22,  1.23s/it]\u001b[A\n",
      " 33%|███▎      | 33/99 [00:25<01:23,  1.27s/it]\u001b[A\n",
      " 34%|███▍      | 34/99 [00:26<01:24,  1.29s/it]\u001b[A\n",
      " 35%|███▌      | 35/99 [00:28<01:24,  1.32s/it]\u001b[A\n",
      " 36%|███▋      | 36/99 [00:29<01:21,  1.30s/it]\u001b[A\n",
      " 37%|███▋      | 37/99 [00:30<01:26,  1.39s/it]\u001b[A\n",
      " 38%|███▊      | 38/99 [00:32<01:26,  1.42s/it]\u001b[A\n",
      " 39%|███▉      | 39/99 [00:33<01:27,  1.45s/it]\u001b[A\n",
      " 40%|████      | 40/99 [00:35<01:30,  1.54s/it]\u001b[A\n",
      " 41%|████▏     | 41/99 [00:37<01:32,  1.60s/it]\u001b[A\n",
      " 42%|████▏     | 42/99 [00:39<01:32,  1.62s/it]\u001b[A\n",
      " 43%|████▎     | 43/99 [00:40<01:30,  1.62s/it]\u001b[A\n",
      " 44%|████▍     | 44/99 [00:42<01:27,  1.59s/it]\u001b[A\n",
      " 45%|████▌     | 45/99 [00:43<01:28,  1.65s/it]\u001b[A\n",
      " 46%|████▋     | 46/99 [00:45<01:32,  1.75s/it]\u001b[A\n",
      " 47%|████▋     | 47/99 [00:47<01:29,  1.72s/it]\u001b[A\n",
      " 48%|████▊     | 48/99 [00:49<01:26,  1.70s/it]\u001b[A\n",
      " 49%|████▉     | 49/99 [00:51<01:29,  1.79s/it]\u001b[A\n",
      " 51%|█████     | 50/99 [00:53<01:29,  1.82s/it]\u001b[A\n",
      " 52%|█████▏    | 51/99 [00:55<01:28,  1.84s/it]\u001b[A\n",
      " 53%|█████▎    | 52/99 [00:56<01:26,  1.84s/it]\u001b[A\n",
      " 54%|█████▎    | 53/99 [00:58<01:24,  1.83s/it]\u001b[A\n",
      " 55%|█████▍    | 54/99 [01:00<01:23,  1.85s/it]\u001b[A\n",
      " 56%|█████▌    | 55/99 [01:02<01:25,  1.94s/it]\u001b[A\n",
      " 57%|█████▋    | 56/99 [01:05<01:28,  2.05s/it]\u001b[A\n",
      " 58%|█████▊    | 57/99 [01:06<01:24,  2.00s/it]\u001b[A\n",
      " 59%|█████▊    | 58/99 [01:08<01:20,  1.97s/it]\u001b[A\n",
      " 60%|█████▉    | 59/99 [01:10<01:18,  1.96s/it]\u001b[A\n",
      " 61%|██████    | 60/99 [01:12<01:17,  1.98s/it]\u001b[A\n",
      " 62%|██████▏   | 61/99 [01:15<01:19,  2.10s/it]\u001b[A\n",
      " 63%|██████▎   | 62/99 [01:17<01:15,  2.05s/it]\u001b[A\n",
      " 64%|██████▎   | 63/99 [01:19<01:13,  2.04s/it]\u001b[A\n",
      " 65%|██████▍   | 64/99 [01:21<01:12,  2.07s/it]\u001b[A\n",
      " 66%|██████▌   | 65/99 [01:23<01:09,  2.03s/it]\u001b[A\n",
      " 67%|██████▋   | 66/99 [01:25<01:09,  2.11s/it]\u001b[A\n",
      " 68%|██████▊   | 67/99 [01:27<01:06,  2.07s/it]\u001b[A\n",
      " 69%|██████▊   | 68/99 [01:29<01:01,  1.99s/it]\u001b[A\n",
      " 70%|██████▉   | 69/99 [01:31<01:02,  2.10s/it]\u001b[A\n",
      " 71%|███████   | 70/99 [01:33<00:59,  2.05s/it]\u001b[A\n",
      " 72%|███████▏  | 71/99 [01:35<00:57,  2.06s/it]\u001b[A\n",
      " 73%|███████▎  | 72/99 [01:37<00:55,  2.06s/it]\u001b[A\n",
      " 74%|███████▎  | 73/99 [01:40<00:55,  2.15s/it]\u001b[A\n",
      " 75%|███████▍  | 74/99 [01:42<00:53,  2.15s/it]\u001b[A\n",
      " 76%|███████▌  | 75/99 [01:44<00:52,  2.18s/it]\u001b[A\n",
      " 77%|███████▋  | 76/99 [01:46<00:50,  2.19s/it]\u001b[A\n",
      " 78%|███████▊  | 77/99 [01:48<00:47,  2.17s/it]\u001b[A\n",
      " 79%|███████▉  | 78/99 [01:51<00:46,  2.20s/it]\u001b[A\n",
      " 80%|███████▉  | 79/99 [01:53<00:45,  2.27s/it]\u001b[A\n",
      " 81%|████████  | 80/99 [01:55<00:44,  2.33s/it]\u001b[A\n",
      " 82%|████████▏ | 81/99 [01:58<00:42,  2.37s/it]\u001b[A\n",
      " 83%|████████▎ | 82/99 [02:01<00:41,  2.45s/it]\u001b[A\n",
      " 84%|████████▍ | 83/99 [02:03<00:38,  2.42s/it]\u001b[A\n",
      " 85%|████████▍ | 84/99 [02:06<00:38,  2.55s/it]\u001b[A\n",
      " 86%|████████▌ | 85/99 [02:08<00:35,  2.55s/it]\u001b[A\n",
      " 87%|████████▋ | 86/99 [02:11<00:33,  2.54s/it]\u001b[A\n",
      " 88%|████████▊ | 87/99 [02:13<00:30,  2.57s/it]\u001b[A\n",
      " 89%|████████▉ | 88/99 [02:16<00:29,  2.67s/it]\u001b[A\n",
      " 90%|████████▉ | 89/99 [02:19<00:26,  2.62s/it]\u001b[A\n",
      " 91%|█████████ | 90/99 [02:22<00:24,  2.67s/it]\u001b[A\n",
      " 92%|█████████▏| 91/99 [02:24<00:21,  2.67s/it]\u001b[A\n",
      " 93%|█████████▎| 92/99 [02:27<00:18,  2.65s/it]\u001b[A\n",
      " 94%|█████████▍| 93/99 [02:29<00:15,  2.62s/it]\u001b[A\n",
      " 95%|█████████▍| 94/99 [02:32<00:13,  2.65s/it]\u001b[A\n",
      " 96%|█████████▌| 95/99 [02:35<00:10,  2.73s/it]\u001b[A\n",
      " 97%|█████████▋| 96/99 [02:38<00:08,  2.75s/it]\u001b[A\n",
      " 98%|█████████▊| 97/99 [02:41<00:05,  2.82s/it]\u001b[A\n",
      " 99%|█████████▉| 98/99 [02:44<00:02,  2.94s/it]\u001b[A\n",
      "100%|██████████| 99/99 [02:47<00:00,  2.90s/it]\u001b[A"
     ]
    },
    {
     "data": {
      "image/png": "[encoded data removed]",
      "text/plain": [
       "<Figure size 432x288 with 1 Axes>"
      ]
     },
     "metadata": {
      "needs_background": "light"
     },
     "output_type": "display_data"
    }
   ],
   "source": [
    "# from sklearn.datasets import load_iris\n",
    "# from sklearn.cluster import KMeans\n",
    "# import matplotlib.pyplot as plt\n",
    "\n",
    "# sse = {}\n",
    "# for k in tqdm(range(1, 100)):\n",
    "#     kmeans = KMeans(n_clusters=k, max_iter=1000).fit(data)\n",
    "# #     clusters[\"clusters\"] = kmeans.labels_\n",
    "#     #print(data[\"clusters\"])\n",
    "#     sse[k] = kmeans.inertia_ # Inertia: Sum of distances of samples to their closest cluster center\n",
    "# plt.figure()\n",
    "# plt.plot(list(sse.keys()), list(sse.values()))\n",
    "# plt.xlabel(\"Number of cluster\")\n",
    "# plt.ylabel(\"SSE\")\n",
    "# plt.show()"
   ]
  },
  {
   "cell_type": "code",
   "execution_count": 45,
   "metadata": {},
   "outputs": [
    {
     "name": "stderr",
     "output_type": "stream",
     "text": [
      "100%|██████████| 6668/6668 [00:00<00:00, 641694.64it/s]\n"
     ]
    }
   ],
   "source": [
    "data_tsne = []\n",
    "for anime1_idx in tqdm(top_anime):\n",
    "    data_tsne.append(anime_emb_enc_tsne[anime1_idx])"
   ]
  },
  {
   "cell_type": "code",
   "execution_count": 48,
   "metadata": {},
   "outputs": [],
   "source": [
    "from sklearn.cluster import KMeans\n",
    "kmeans_tsne = KMeans(n_clusters=9, max_iter=1000).fit(data_tsne)\n",
    "from collections import defaultdict\n",
    "clusters_tsne = defaultdict(list)\n",
    "for index, cluster_id in enumerate(kmeans_tsne.labels_):\n",
    "    clusters_tsne[cluster_id].append(top_anime[index])"
   ]
  },
  {
   "cell_type": "code",
   "execution_count": 49,
   "metadata": {},
   "outputs": [
    {
     "name": "stderr",
     "output_type": "stream",
     "text": [
      "100%|██████████| 9/9 [00:43<00:00,  4.21s/it]\n"
     ]
    }
   ],
   "source": [
    "from scipy.spatial import distance\n",
    "anime_cluster_distances_tsne = []\n",
    "seen = set()\n",
    "for cluster_id, cluster in tqdm(clusters_tsne.items()):\n",
    "    for anime1_idx in cluster:\n",
    "        for anime2_idx in cluster:\n",
    "            if (anime2_idx not in seen) and (anime1_idx != anime2_idx):\n",
    "                seen.add(anime1_idx)\n",
    "                anime1 = anime_titles[idx2anime[anime1_idx]]\n",
    "                anime2 = anime_titles[idx2anime[anime2_idx]]\n",
    "                anime1_features = anime_emb_enc_tsne[anime1_idx]\n",
    "                anime2_features = anime_emb_enc_tsne[anime2_idx]\n",
    "                euc_distance = distance.euclidean(\n",
    "                    anime1_features, anime2_features\n",
    "                )\n",
    "                anime_cluster_distances_tsne.append([anime1, anime2, euc_distance, int(cluster_id)])\n",
    "\n",
    "with open('{}/{}_combined_cluster_tsne.json'.format(feat_dir_name, NUM_RATINGS), 'w') as fp:\n",
    "    json.dump(anime_cluster_distances_tsne, fp)"
   ]
  },
  {
   "cell_type": "code",
   "execution_count": 146,
   "metadata": {},
   "outputs": [
    {
     "name": "stderr",
     "output_type": "stream",
     "text": [
      "100%|██████████| 9/9 [00:33<00:00,  3.70s/it]\n"
     ]
    }
   ],
   "source": [
    "from scipy.spatial import distance\n",
    "anime_cluster_distances_tsne_topn = []\n",
    "seen = set()\n",
    "topn=100\n",
    "threshold = 5\n",
    "for cluster_id, cluster in tqdm(clusters_tsne.items()):\n",
    "    for anime1_idx in cluster:\n",
    "        for anime2_idx in cluster:\n",
    "            if (anime1_idx in top_anime[:topn] or anime2_idx in top_anime[:topn]) and (anime2_idx not in seen) and (anime1_idx != anime2_idx):\n",
    "                seen.add(anime1_idx)\n",
    "                anime1 = anime_titles[idx2anime[anime1_idx]]\n",
    "                anime2 = anime_titles[idx2anime[anime2_idx]]\n",
    "                anime1_features = anime_emb_enc_tsne[anime1_idx]\n",
    "                anime2_features = anime_emb_enc_tsne[anime2_idx]\n",
    "                euc_distance = distance.euclidean(\n",
    "                    anime1_features, anime2_features\n",
    "                )\n",
    "                if euc_distance < threshold:\n",
    "                    anime_cluster_distances_tsne_topn.append([anime1, anime2, euc_distance, int(cluster_id)])\n",
    "\n",
    "with open('{}/{}_combined_cluster_tsne_top-{}.json'.format(feat_dir_name, NUM_RATINGS, topn), 'w') as fp:\n",
    "    json.dump(anime_cluster_distances_tsne_topn, fp)"
   ]
  },
  {
   "cell_type": "code",
   "execution_count": 50,
   "metadata": {},
   "outputs": [],
   "source": [
    "clusters_tsne_df = pd.DataFrame(anime_cluster_distances_tsne, columns=['anime1', 'anime2', 'distance', 'cluster'])"
   ]
  },
  {
   "cell_type": "code",
   "execution_count": 51,
   "metadata": {},
   "outputs": [
    {
     "data": {
      "text/html": [
       "<div>\n",
       "<style scoped>\n",
       "    .dataframe tbody tr th:only-of-type {\n",
       "        vertical-align: middle;\n",
       "    }\n",
       "\n",
       "    .dataframe tbody tr th {\n",
       "        vertical-align: top;\n",
       "    }\n",
       "\n",
       "    .dataframe thead th {\n",
       "        text-align: right;\n",
       "    }\n",
       "</style>\n",
       "<table border=\"1\" class=\"dataframe\">\n",
       "  <thead>\n",
       "    <tr style=\"text-align: right;\">\n",
       "      <th></th>\n",
       "      <th>anime1</th>\n",
       "      <th>anime2</th>\n",
       "      <th>distance</th>\n",
       "      <th>cluster</th>\n",
       "    </tr>\n",
       "  </thead>\n",
       "  <tbody>\n",
       "    <tr>\n",
       "      <th>2538685</th>\n",
       "      <td>Kemonozume</td>\n",
       "      <td>Boogiepop wa Warawanai: Boogiepop Phantom</td>\n",
       "      <td>0.002250</td>\n",
       "      <td>8</td>\n",
       "    </tr>\n",
       "    <tr>\n",
       "      <th>2501679</th>\n",
       "      <td>Hoshi wo Ou Kodomo</td>\n",
       "      <td>Momo e no Tegami</td>\n",
       "      <td>0.037053</td>\n",
       "      <td>8</td>\n",
       "    </tr>\n",
       "    <tr>\n",
       "      <th>2488061</th>\n",
       "      <td>Karas</td>\n",
       "      <td>Ao no 6-gou</td>\n",
       "      <td>0.050283</td>\n",
       "      <td>8</td>\n",
       "    </tr>\n",
       "    <tr>\n",
       "      <th>2402859</th>\n",
       "      <td>Kaze Tachinu</td>\n",
       "      <td>Kaguya-hime no Monogatari</td>\n",
       "      <td>0.062000</td>\n",
       "      <td>8</td>\n",
       "    </tr>\n",
       "    <tr>\n",
       "      <th>2430903</th>\n",
       "      <td>Omoide no Marnie</td>\n",
       "      <td>Kaguya-hime no Monogatari</td>\n",
       "      <td>0.063161</td>\n",
       "      <td>8</td>\n",
       "    </tr>\n",
       "    <tr>\n",
       "      <th>2426119</th>\n",
       "      <td>Black Blood Brothers</td>\n",
       "      <td>Karin</td>\n",
       "      <td>0.063377</td>\n",
       "      <td>8</td>\n",
       "    </tr>\n",
       "    <tr>\n",
       "      <th>2529390</th>\n",
       "      <td>Cyber City Oedo 808</td>\n",
       "      <td>Project A-Ko</td>\n",
       "      <td>0.064269</td>\n",
       "      <td>8</td>\n",
       "    </tr>\n",
       "    <tr>\n",
       "      <th>2411429</th>\n",
       "      <td>Gedo Senki</td>\n",
       "      <td>Heisei Tanuki Gassen Ponpoko</td>\n",
       "      <td>0.071781</td>\n",
       "      <td>8</td>\n",
       "    </tr>\n",
       "    <tr>\n",
       "      <th>2437234</th>\n",
       "      <td>Gakuen Alice</td>\n",
       "      <td>Kiniro no Corda: Primo Passo</td>\n",
       "      <td>0.074732</td>\n",
       "      <td>8</td>\n",
       "    </tr>\n",
       "    <tr>\n",
       "      <th>2414946</th>\n",
       "      <td>Special A</td>\n",
       "      <td>Itazura na Kiss</td>\n",
       "      <td>0.083676</td>\n",
       "      <td>8</td>\n",
       "    </tr>\n",
       "  </tbody>\n",
       "</table>\n",
       "</div>"
      ],
      "text/plain": [
       "                       anime1                                     anime2  \\\n",
       "2538685            Kemonozume  Boogiepop wa Warawanai: Boogiepop Phantom   \n",
       "2501679    Hoshi wo Ou Kodomo                           Momo e no Tegami   \n",
       "2488061                 Karas                                Ao no 6-gou   \n",
       "2402859          Kaze Tachinu                  Kaguya-hime no Monogatari   \n",
       "2430903      Omoide no Marnie                  Kaguya-hime no Monogatari   \n",
       "2426119  Black Blood Brothers                                      Karin   \n",
       "2529390   Cyber City Oedo 808                               Project A-Ko   \n",
       "2411429            Gedo Senki               Heisei Tanuki Gassen Ponpoko   \n",
       "2437234          Gakuen Alice               Kiniro no Corda: Primo Passo   \n",
       "2414946             Special A                            Itazura na Kiss   \n",
       "\n",
       "         distance  cluster  \n",
       "2538685  0.002250        8  \n",
       "2501679  0.037053        8  \n",
       "2488061  0.050283        8  \n",
       "2402859  0.062000        8  \n",
       "2430903  0.063161        8  \n",
       "2426119  0.063377        8  \n",
       "2529390  0.064269        8  \n",
       "2411429  0.071781        8  \n",
       "2437234  0.074732        8  \n",
       "2414946  0.083676        8  "
      ]
     },
     "execution_count": 51,
     "metadata": {},
     "output_type": "execute_result"
    }
   ],
   "source": [
    "cl_tsne_df = clusters_tsne_df[clusters_tsne_df['cluster'] == 8]\n",
    "cl_tsne_df.sort_values(by='distance', ascending=True)[:10]"
   ]
  },
  {
   "cell_type": "code",
   "execution_count": 52,
   "metadata": {},
   "outputs": [
    {
     "data": {
      "text/html": [
       "<div>\n",
       "<style scoped>\n",
       "    .dataframe tbody tr th:only-of-type {\n",
       "        vertical-align: middle;\n",
       "    }\n",
       "\n",
       "    .dataframe tbody tr th {\n",
       "        vertical-align: top;\n",
       "    }\n",
       "\n",
       "    .dataframe thead th {\n",
       "        text-align: right;\n",
       "    }\n",
       "</style>\n",
       "<table border=\"1\" class=\"dataframe\">\n",
       "  <thead>\n",
       "    <tr style=\"text-align: right;\">\n",
       "      <th></th>\n",
       "      <th>anime1</th>\n",
       "      <th>anime2</th>\n",
       "      <th>distance</th>\n",
       "      <th>cluster</th>\n",
       "    </tr>\n",
       "  </thead>\n",
       "  <tbody>\n",
       "    <tr>\n",
       "      <th>2068369</th>\n",
       "      <td>Nanatsu no Taizai: Imashime no Fukkatsu</td>\n",
       "      <td>Boku no Hero Academia 3rd Season</td>\n",
       "      <td>0.063377</td>\n",
       "      <td>6</td>\n",
       "    </tr>\n",
       "    <tr>\n",
       "      <th>2068410</th>\n",
       "      <td>Nanatsu no Taizai: Imashime no Fukkatsu</td>\n",
       "      <td>Shokugeki no Souma: San no Sara - Toutsuki Res...</td>\n",
       "      <td>0.427323</td>\n",
       "      <td>6</td>\n",
       "    </tr>\n",
       "    <tr>\n",
       "      <th>2068470</th>\n",
       "      <td>Nanatsu no Taizai: Imashime no Fukkatsu</td>\n",
       "      <td>Tokyo Ghoul:re</td>\n",
       "      <td>0.645939</td>\n",
       "      <td>6</td>\n",
       "    </tr>\n",
       "    <tr>\n",
       "      <th>2068372</th>\n",
       "      <td>Nanatsu no Taizai: Imashime no Fukkatsu</td>\n",
       "      <td>Hinamatsuri</td>\n",
       "      <td>0.696452</td>\n",
       "      <td>6</td>\n",
       "    </tr>\n",
       "    <tr>\n",
       "      <th>2068462</th>\n",
       "      <td>Nanatsu no Taizai: Imashime no Fukkatsu</td>\n",
       "      <td>Golden Kamuy</td>\n",
       "      <td>1.055892</td>\n",
       "      <td>6</td>\n",
       "    </tr>\n",
       "    <tr>\n",
       "      <th>2062740</th>\n",
       "      <td>Megalo Box</td>\n",
       "      <td>Nanatsu no Taizai: Imashime no Fukkatsu</td>\n",
       "      <td>1.161483</td>\n",
       "      <td>6</td>\n",
       "    </tr>\n",
       "    <tr>\n",
       "      <th>2068439</th>\n",
       "      <td>Nanatsu no Taizai: Imashime no Fukkatsu</td>\n",
       "      <td>Wotaku ni Koi wa Muzukashii</td>\n",
       "      <td>1.358200</td>\n",
       "      <td>6</td>\n",
       "    </tr>\n",
       "    <tr>\n",
       "      <th>2022920</th>\n",
       "      <td>Darling in the FranXX</td>\n",
       "      <td>Nanatsu no Taizai: Imashime no Fukkatsu</td>\n",
       "      <td>1.361336</td>\n",
       "      <td>6</td>\n",
       "    </tr>\n",
       "    <tr>\n",
       "      <th>2068526</th>\n",
       "      <td>Nanatsu no Taizai: Imashime no Fukkatsu</td>\n",
       "      <td>Steins;Gate 0</td>\n",
       "      <td>1.374417</td>\n",
       "      <td>6</td>\n",
       "    </tr>\n",
       "    <tr>\n",
       "      <th>2046941</th>\n",
       "      <td>Black Clover</td>\n",
       "      <td>Nanatsu no Taizai: Imashime no Fukkatsu</td>\n",
       "      <td>1.518717</td>\n",
       "      <td>6</td>\n",
       "    </tr>\n",
       "  </tbody>\n",
       "</table>\n",
       "</div>"
      ],
      "text/plain": [
       "                                          anime1  \\\n",
       "2068369  Nanatsu no Taizai: Imashime no Fukkatsu   \n",
       "2068410  Nanatsu no Taizai: Imashime no Fukkatsu   \n",
       "2068470  Nanatsu no Taizai: Imashime no Fukkatsu   \n",
       "2068372  Nanatsu no Taizai: Imashime no Fukkatsu   \n",
       "2068462  Nanatsu no Taizai: Imashime no Fukkatsu   \n",
       "2062740                               Megalo Box   \n",
       "2068439  Nanatsu no Taizai: Imashime no Fukkatsu   \n",
       "2022920                    Darling in the FranXX   \n",
       "2068526  Nanatsu no Taizai: Imashime no Fukkatsu   \n",
       "2046941                             Black Clover   \n",
       "\n",
       "                                                    anime2  distance  cluster  \n",
       "2068369                   Boku no Hero Academia 3rd Season  0.063377        6  \n",
       "2068410  Shokugeki no Souma: San no Sara - Toutsuki Res...  0.427323        6  \n",
       "2068470                                     Tokyo Ghoul:re  0.645939        6  \n",
       "2068372                                        Hinamatsuri  0.696452        6  \n",
       "2068462                                       Golden Kamuy  1.055892        6  \n",
       "2062740            Nanatsu no Taizai: Imashime no Fukkatsu  1.161483        6  \n",
       "2068439                        Wotaku ni Koi wa Muzukashii  1.358200        6  \n",
       "2022920            Nanatsu no Taizai: Imashime no Fukkatsu  1.361336        6  \n",
       "2068526                                      Steins;Gate 0  1.374417        6  \n",
       "2046941            Nanatsu no Taizai: Imashime no Fukkatsu  1.518717        6  "
      ]
     },
     "execution_count": 52,
     "metadata": {},
     "output_type": "execute_result"
    }
   ],
   "source": [
    "filter_name = 'Nanatsu no Taizai: Imashime no Fukkatsu'\n",
    "clusters_tsne_df[\n",
    "    (clusters_tsne_df['anime2'] == filter_name) | (clusters_tsne_df['anime1'] == filter_name)\n",
    "].sort_values(by='distance')[:10]"
   ]
  },
  {
   "cell_type": "code",
   "execution_count": 128,
   "metadata": {},
   "outputs": [
    {
     "name": "stderr",
     "output_type": "stream",
     "text": [
      "100%|██████████| 6668/6668 [00:00<00:00, 335290.89it/s]\n"
     ]
    }
   ],
   "source": [
    "data = []\n",
    "for anime1_idx in tqdm(top_anime):\n",
    "    data.append([anime_emb_enc[i][anime1_idx] for i in range(condensed_latent_features)])"
   ]
  },
  {
   "cell_type": "code",
   "execution_count": 129,
   "metadata": {},
   "outputs": [],
   "source": [
    "kmeans = KMeans(n_clusters=20, max_iter=1000).fit(data)"
   ]
  },
  {
   "cell_type": "code",
   "execution_count": 130,
   "metadata": {},
   "outputs": [],
   "source": [
    "from collections import defaultdict\n",
    "clusters = defaultdict(list)\n",
    "for index, cluster_id in enumerate(kmeans.labels_):\n",
    "    clusters[cluster_id].append(top_anime[index])"
   ]
  },
  {
   "cell_type": "code",
   "execution_count": 131,
   "metadata": {},
   "outputs": [
    {
     "name": "stderr",
     "output_type": "stream",
     "text": [
      "100%|██████████| 20/20 [00:44<00:00,  2.51s/it]\n"
     ]
    }
   ],
   "source": [
    "anime_cluster_distances = []\n",
    "seen = set()\n",
    "for cluster_id, cluster in tqdm(clusters.items()):\n",
    "    for anime1_idx in cluster:\n",
    "        for anime2_idx in cluster:\n",
    "            if (anime2_idx not in seen) and (anime1_idx != anime2_idx):\n",
    "                seen.add(anime1_idx)\n",
    "                anime1 = anime_titles[anime[anime1_idx]]\n",
    "                anime2 = anime_titles[anime[anime2_idx]]\n",
    "                anime1_features = [anime_emb_enc[i][anime1_idx] for i in range(condensed_latent_features)]\n",
    "                anime2_features = [anime_emb_enc[i][anime2_idx] for i in range(condensed_latent_features)]\n",
    "                euc_distance = distance.euclidean(\n",
    "                    anime1_features, anime2_features\n",
    "                )\n",
    "                anime_cluster_distances.append([anime1, anime2, euc_distance, int(cluster_id)])\n",
    "\n",
    "with open('{}/{}_combined_cluster.json'.format(feat_dir_name, NUM_RATINGS), 'w') as fp:\n",
    "    json.dump(anime_cluster_distances, fp)"
   ]
  },
  {
   "cell_type": "code",
   "execution_count": 132,
   "metadata": {},
   "outputs": [],
   "source": [
    "clusters_df = pd.DataFrame(anime_cluster_distances, columns=['anime1', 'anime2', 'distance', 'cluster'])"
   ]
  },
  {
   "cell_type": "code",
   "execution_count": 133,
   "metadata": {},
   "outputs": [
    {
     "data": {
      "text/html": [
       "<div>\n",
       "<style scoped>\n",
       "    .dataframe tbody tr th:only-of-type {\n",
       "        vertical-align: middle;\n",
       "    }\n",
       "\n",
       "    .dataframe tbody tr th {\n",
       "        vertical-align: top;\n",
       "    }\n",
       "\n",
       "    .dataframe thead th {\n",
       "        text-align: right;\n",
       "    }\n",
       "</style>\n",
       "<table border=\"1\" class=\"dataframe\">\n",
       "  <thead>\n",
       "    <tr style=\"text-align: right;\">\n",
       "      <th></th>\n",
       "      <th>anime1</th>\n",
       "      <th>anime2</th>\n",
       "      <th>distance</th>\n",
       "      <th>cluster</th>\n",
       "    </tr>\n",
       "  </thead>\n",
       "  <tbody>\n",
       "    <tr>\n",
       "      <th>314421</th>\n",
       "      <td>Dr. Slump Movie 09: Arale-chan N-cha!! Wakuwak...</td>\n",
       "      <td>Dr. Slump Movie 07: Arale-chan N-cha! Penguin ...</td>\n",
       "      <td>0.000984</td>\n",
       "      <td>5</td>\n",
       "    </tr>\n",
       "    <tr>\n",
       "      <th>319634</th>\n",
       "      <td>Nurse Witch Komugi-chan Magikarte Z Special</td>\n",
       "      <td>Install Pilot</td>\n",
       "      <td>0.001632</td>\n",
       "      <td>5</td>\n",
       "    </tr>\n",
       "    <tr>\n",
       "      <th>312555</th>\n",
       "      <td>Queen&amp;#039;s Blade OVA Specials</td>\n",
       "      <td>Fullmetal Alchemist: The Sacred Star of Milos ...</td>\n",
       "      <td>0.001766</td>\n",
       "      <td>5</td>\n",
       "    </tr>\n",
       "    <tr>\n",
       "      <th>314433</th>\n",
       "      <td>Dr. Slump Movie 09: Arale-chan N-cha!! Wakuwak...</td>\n",
       "      <td>Dr. Slump Movie 05: Arale-chan Hoyoyo! Yume no...</td>\n",
       "      <td>0.002100</td>\n",
       "      <td>5</td>\n",
       "    </tr>\n",
       "    <tr>\n",
       "      <th>314845</th>\n",
       "      <td>Youchien Senshi: Hanamaru Girls</td>\n",
       "      <td>Dr. Slump Movie 10: Arale no Bikkuriman</td>\n",
       "      <td>0.002126</td>\n",
       "      <td>5</td>\n",
       "    </tr>\n",
       "    <tr>\n",
       "      <th>318315</th>\n",
       "      <td>Precure kara Minna e no Ouen Movie</td>\n",
       "      <td>Umi Monogatari: Marin no Kore Naani?</td>\n",
       "      <td>0.002174</td>\n",
       "      <td>5</td>\n",
       "    </tr>\n",
       "    <tr>\n",
       "      <th>280094</th>\n",
       "      <td>Hikari to Mizu no Daphne Specials</td>\n",
       "      <td>Joshikousei: Girl&amp;#039;s High Specials</td>\n",
       "      <td>0.002278</td>\n",
       "      <td>5</td>\n",
       "    </tr>\n",
       "    <tr>\n",
       "      <th>316577</th>\n",
       "      <td>Ane Log: Moyako Neesan no Honpen wo Tobidashit...</td>\n",
       "      <td>K: Missing Kings - Manner Movie</td>\n",
       "      <td>0.002287</td>\n",
       "      <td>5</td>\n",
       "    </tr>\n",
       "    <tr>\n",
       "      <th>315324</th>\n",
       "      <td>Dr. Slump Movie 07: Arale-chan N-cha! Penguin ...</td>\n",
       "      <td>Dr. Slump Movie 05: Arale-chan Hoyoyo! Yume no...</td>\n",
       "      <td>0.002394</td>\n",
       "      <td>5</td>\n",
       "    </tr>\n",
       "    <tr>\n",
       "      <th>293568</th>\n",
       "      <td>Code Geass: Hangyaku no Lelouch R2 Special Edi...</td>\n",
       "      <td>Code Geass: Hangyaku no Lelouch Special Editio...</td>\n",
       "      <td>0.002571</td>\n",
       "      <td>5</td>\n",
       "    </tr>\n",
       "  </tbody>\n",
       "</table>\n",
       "</div>"
      ],
      "text/plain": [
       "                                                   anime1  \\\n",
       "314421  Dr. Slump Movie 09: Arale-chan N-cha!! Wakuwak...   \n",
       "319634        Nurse Witch Komugi-chan Magikarte Z Special   \n",
       "312555                    Queen&#039;s Blade OVA Specials   \n",
       "314433  Dr. Slump Movie 09: Arale-chan N-cha!! Wakuwak...   \n",
       "314845                    Youchien Senshi: Hanamaru Girls   \n",
       "318315                 Precure kara Minna e no Ouen Movie   \n",
       "280094                  Hikari to Mizu no Daphne Specials   \n",
       "316577  Ane Log: Moyako Neesan no Honpen wo Tobidashit...   \n",
       "315324  Dr. Slump Movie 07: Arale-chan N-cha! Penguin ...   \n",
       "293568  Code Geass: Hangyaku no Lelouch R2 Special Edi...   \n",
       "\n",
       "                                                   anime2  distance  cluster  \n",
       "314421  Dr. Slump Movie 07: Arale-chan N-cha! Penguin ...  0.000984        5  \n",
       "319634                                      Install Pilot  0.001632        5  \n",
       "312555  Fullmetal Alchemist: The Sacred Star of Milos ...  0.001766        5  \n",
       "314433  Dr. Slump Movie 05: Arale-chan Hoyoyo! Yume no...  0.002100        5  \n",
       "314845            Dr. Slump Movie 10: Arale no Bikkuriman  0.002126        5  \n",
       "318315               Umi Monogatari: Marin no Kore Naani?  0.002174        5  \n",
       "280094             Joshikousei: Girl&#039;s High Specials  0.002278        5  \n",
       "316577                    K: Missing Kings - Manner Movie  0.002287        5  \n",
       "315324  Dr. Slump Movie 05: Arale-chan Hoyoyo! Yume no...  0.002394        5  \n",
       "293568  Code Geass: Hangyaku no Lelouch Special Editio...  0.002571        5  "
      ]
     },
     "execution_count": 133,
     "metadata": {},
     "output_type": "execute_result"
    }
   ],
   "source": [
    "cl1_df = clusters_df[clusters_df['cluster'] == 5]\n",
    "cl1_df.sort_values(by='distance', ascending=True)[:10]"
   ]
  },
  {
   "cell_type": "code",
   "execution_count": 135,
   "metadata": {},
   "outputs": [
    {
     "data": {
      "text/html": [
       "<div>\n",
       "<style scoped>\n",
       "    .dataframe tbody tr th:only-of-type {\n",
       "        vertical-align: middle;\n",
       "    }\n",
       "\n",
       "    .dataframe tbody tr th {\n",
       "        vertical-align: top;\n",
       "    }\n",
       "\n",
       "    .dataframe thead th {\n",
       "        text-align: right;\n",
       "    }\n",
       "</style>\n",
       "<table border=\"1\" class=\"dataframe\">\n",
       "  <thead>\n",
       "    <tr style=\"text-align: right;\">\n",
       "      <th></th>\n",
       "      <th>anime1</th>\n",
       "      <th>anime2</th>\n",
       "      <th>distance</th>\n",
       "      <th>cluster</th>\n",
       "    </tr>\n",
       "  </thead>\n",
       "  <tbody>\n",
       "    <tr>\n",
       "      <th>495301</th>\n",
       "      <td>Nanatsu no Taizai: Imashime no Fukkatsu</td>\n",
       "      <td>Tokyo Ghoul:re</td>\n",
       "      <td>0.003934</td>\n",
       "      <td>11</td>\n",
       "    </tr>\n",
       "    <tr>\n",
       "      <th>494681</th>\n",
       "      <td>Emiya-san Chi no Kyou no Gohan</td>\n",
       "      <td>Nanatsu no Taizai: Imashime no Fukkatsu</td>\n",
       "      <td>0.004349</td>\n",
       "      <td>11</td>\n",
       "    </tr>\n",
       "    <tr>\n",
       "      <th>495295</th>\n",
       "      <td>Nanatsu no Taizai: Imashime no Fukkatsu</td>\n",
       "      <td>Cardcaptor Sakura: Clear Card-hen</td>\n",
       "      <td>0.005191</td>\n",
       "      <td>11</td>\n",
       "    </tr>\n",
       "    <tr>\n",
       "      <th>495297</th>\n",
       "      <td>Nanatsu no Taizai: Imashime no Fukkatsu</td>\n",
       "      <td>Shokugeki no Souma: San no Sara - Toutsuki Res...</td>\n",
       "      <td>0.005192</td>\n",
       "      <td>11</td>\n",
       "    </tr>\n",
       "    <tr>\n",
       "      <th>495251</th>\n",
       "      <td>Megalo Box</td>\n",
       "      <td>Nanatsu no Taizai: Imashime no Fukkatsu</td>\n",
       "      <td>0.006270</td>\n",
       "      <td>11</td>\n",
       "    </tr>\n",
       "    <tr>\n",
       "      <th>495293</th>\n",
       "      <td>Nanatsu no Taizai: Imashime no Fukkatsu</td>\n",
       "      <td>Grancrest Senki</td>\n",
       "      <td>0.006678</td>\n",
       "      <td>11</td>\n",
       "    </tr>\n",
       "    <tr>\n",
       "      <th>495288</th>\n",
       "      <td>Nanatsu no Taizai: Imashime no Fukkatsu</td>\n",
       "      <td>Boku no Hero Academia 3rd Season</td>\n",
       "      <td>0.006694</td>\n",
       "      <td>11</td>\n",
       "    </tr>\n",
       "    <tr>\n",
       "      <th>495296</th>\n",
       "      <td>Nanatsu no Taizai: Imashime no Fukkatsu</td>\n",
       "      <td>Uma Musume: Pretty Derby (TV)</td>\n",
       "      <td>0.006730</td>\n",
       "      <td>11</td>\n",
       "    </tr>\n",
       "    <tr>\n",
       "      <th>492937</th>\n",
       "      <td>Pokemon Sun &amp; Moon</td>\n",
       "      <td>Nanatsu no Taizai: Imashime no Fukkatsu</td>\n",
       "      <td>0.006808</td>\n",
       "      <td>11</td>\n",
       "    </tr>\n",
       "    <tr>\n",
       "      <th>495290</th>\n",
       "      <td>Nanatsu no Taizai: Imashime no Fukkatsu</td>\n",
       "      <td>Hinamatsuri</td>\n",
       "      <td>0.007124</td>\n",
       "      <td>11</td>\n",
       "    </tr>\n",
       "  </tbody>\n",
       "</table>\n",
       "</div>"
      ],
      "text/plain": [
       "                                         anime1  \\\n",
       "495301  Nanatsu no Taizai: Imashime no Fukkatsu   \n",
       "494681           Emiya-san Chi no Kyou no Gohan   \n",
       "495295  Nanatsu no Taizai: Imashime no Fukkatsu   \n",
       "495297  Nanatsu no Taizai: Imashime no Fukkatsu   \n",
       "495251                               Megalo Box   \n",
       "495293  Nanatsu no Taizai: Imashime no Fukkatsu   \n",
       "495288  Nanatsu no Taizai: Imashime no Fukkatsu   \n",
       "495296  Nanatsu no Taizai: Imashime no Fukkatsu   \n",
       "492937                       Pokemon Sun & Moon   \n",
       "495290  Nanatsu no Taizai: Imashime no Fukkatsu   \n",
       "\n",
       "                                                   anime2  distance  cluster  \n",
       "495301                                     Tokyo Ghoul:re  0.003934       11  \n",
       "494681            Nanatsu no Taizai: Imashime no Fukkatsu  0.004349       11  \n",
       "495295                  Cardcaptor Sakura: Clear Card-hen  0.005191       11  \n",
       "495297  Shokugeki no Souma: San no Sara - Toutsuki Res...  0.005192       11  \n",
       "495251            Nanatsu no Taizai: Imashime no Fukkatsu  0.006270       11  \n",
       "495293                                    Grancrest Senki  0.006678       11  \n",
       "495288                   Boku no Hero Academia 3rd Season  0.006694       11  \n",
       "495296                      Uma Musume: Pretty Derby (TV)  0.006730       11  \n",
       "492937            Nanatsu no Taizai: Imashime no Fukkatsu  0.006808       11  \n",
       "495290                                        Hinamatsuri  0.007124       11  "
      ]
     },
     "execution_count": 135,
     "metadata": {},
     "output_type": "execute_result"
    }
   ],
   "source": [
    "filter_name = 'Nanatsu no Taizai: Imashime no Fukkatsu'\n",
    "clusters_df[\n",
    "    (clusters_df['anime2'] == filter_name) | (clusters_df['anime1'] == filter_name)\n",
    "].sort_values(by='distance')[:10]"
   ]
  },
  {
   "cell_type": "code",
   "execution_count": 136,
   "metadata": {},
   "outputs": [
    {
     "data": {
      "text/html": [
       "<div>\n",
       "<style scoped>\n",
       "    .dataframe tbody tr th:only-of-type {\n",
       "        vertical-align: middle;\n",
       "    }\n",
       "\n",
       "    .dataframe tbody tr th {\n",
       "        vertical-align: top;\n",
       "    }\n",
       "\n",
       "    .dataframe thead th {\n",
       "        text-align: right;\n",
       "    }\n",
       "</style>\n",
       "<table border=\"1\" class=\"dataframe\">\n",
       "  <thead>\n",
       "    <tr style=\"text-align: right;\">\n",
       "      <th></th>\n",
       "      <th>anime1</th>\n",
       "      <th>anime2</th>\n",
       "      <th>distance</th>\n",
       "      <th>cluster</th>\n",
       "    </tr>\n",
       "  </thead>\n",
       "  <tbody>\n",
       "    <tr>\n",
       "      <th>606441</th>\n",
       "      <td>Naruto</td>\n",
       "      <td>Naruto: Shippuuden</td>\n",
       "      <td>0.013751</td>\n",
       "      <td>13</td>\n",
       "    </tr>\n",
       "    <tr>\n",
       "      <th>606448</th>\n",
       "      <td>Naruto</td>\n",
       "      <td>One Piece</td>\n",
       "      <td>0.024302</td>\n",
       "      <td>13</td>\n",
       "    </tr>\n",
       "    <tr>\n",
       "      <th>606265</th>\n",
       "      <td>Sword Art Online</td>\n",
       "      <td>Naruto</td>\n",
       "      <td>0.029688</td>\n",
       "      <td>13</td>\n",
       "    </tr>\n",
       "    <tr>\n",
       "      <th>606443</th>\n",
       "      <td>Naruto</td>\n",
       "      <td>Highschool of the Dead</td>\n",
       "      <td>0.030752</td>\n",
       "      <td>13</td>\n",
       "    </tr>\n",
       "    <tr>\n",
       "      <th>606452</th>\n",
       "      <td>Naruto</td>\n",
       "      <td>Ao no Exorcist</td>\n",
       "      <td>0.030853</td>\n",
       "      <td>13</td>\n",
       "    </tr>\n",
       "    <tr>\n",
       "      <th>606437</th>\n",
       "      <td>Naruto</td>\n",
       "      <td>Tokyo Ghoul</td>\n",
       "      <td>0.032631</td>\n",
       "      <td>13</td>\n",
       "    </tr>\n",
       "    <tr>\n",
       "      <th>606456</th>\n",
       "      <td>Naruto</td>\n",
       "      <td>Tokyo Ghoul √A</td>\n",
       "      <td>0.035485</td>\n",
       "      <td>13</td>\n",
       "    </tr>\n",
       "    <tr>\n",
       "      <th>606459</th>\n",
       "      <td>Naruto</td>\n",
       "      <td>Fairy Tail</td>\n",
       "      <td>0.036764</td>\n",
       "      <td>13</td>\n",
       "    </tr>\n",
       "    <tr>\n",
       "      <th>605663</th>\n",
       "      <td>Shingeki no Kyojin</td>\n",
       "      <td>Naruto</td>\n",
       "      <td>0.036932</td>\n",
       "      <td>13</td>\n",
       "    </tr>\n",
       "    <tr>\n",
       "      <th>606449</th>\n",
       "      <td>Naruto</td>\n",
       "      <td>Another</td>\n",
       "      <td>0.040465</td>\n",
       "      <td>13</td>\n",
       "    </tr>\n",
       "  </tbody>\n",
       "</table>\n",
       "</div>"
      ],
      "text/plain": [
       "                    anime1                  anime2  distance  cluster\n",
       "606441              Naruto      Naruto: Shippuuden  0.013751       13\n",
       "606448              Naruto               One Piece  0.024302       13\n",
       "606265    Sword Art Online                  Naruto  0.029688       13\n",
       "606443              Naruto  Highschool of the Dead  0.030752       13\n",
       "606452              Naruto          Ao no Exorcist  0.030853       13\n",
       "606437              Naruto             Tokyo Ghoul  0.032631       13\n",
       "606456              Naruto          Tokyo Ghoul √A  0.035485       13\n",
       "606459              Naruto              Fairy Tail  0.036764       13\n",
       "605663  Shingeki no Kyojin                  Naruto  0.036932       13\n",
       "606449              Naruto                 Another  0.040465       13"
      ]
     },
     "execution_count": 136,
     "metadata": {},
     "output_type": "execute_result"
    }
   ],
   "source": [
    "filter_name = 'Naruto'\n",
    "clusters_df[\n",
    "    (clusters_df['anime2'] == filter_name) | (clusters_df['anime1'] == filter_name)\n",
    "].sort_values(by='distance')[:10]"
   ]
  },
  {
   "cell_type": "code",
   "execution_count": 145,
   "metadata": {},
   "outputs": [],
   "source": [
    "from sklearn.neighbors import NearestNeighbors\n",
    "anime_idx_topn_mapping = {i: r[0] for i, r in enumerate(anime_topn)}\n",
    "anime_topn_points = [r[1:] for r in anime_topn]"
   ]
  },
  {
   "cell_type": "code",
   "execution_count": 146,
   "metadata": {},
   "outputs": [
    {
     "data": {
      "text/plain": [
       "NearestNeighbors(algorithm='auto', leaf_size=30, metric='minkowski',\n",
       "         metric_params=None, n_jobs=None, n_neighbors=5, p=2, radius=0.5)"
      ]
     },
     "execution_count": 146,
     "metadata": {},
     "output_type": "execute_result"
    }
   ],
   "source": [
    "knn = NearestNeighbors(n_neighbors=5, radius=0.5)\n",
    "knn.fit(anime_topn_points)"
   ]
  },
  {
   "cell_type": "code",
   "execution_count": 174,
   "metadata": {},
   "outputs": [
    {
     "name": "stdout",
     "output_type": "stream",
     "text": [
      "Input:  Naruto\n"
     ]
    },
    {
     "data": {
      "text/plain": [
       "['Naruto',\n",
       " 'Elfen Lied',\n",
       " 'Tengen Toppa Gurren Lagann',\n",
       " 'Code Geass: Hangyaku no Lelouch R2',\n",
       " 'Another',\n",
       " 'Clannad',\n",
       " 'Naruto: Shippuuden',\n",
       " 'Mahou Shoujo Madoka★Magica',\n",
       " 'Mirai Nikki (TV)',\n",
       " 'Ouran Koukou Host Club']"
      ]
     },
     "execution_count": 174,
     "metadata": {},
     "output_type": "execute_result"
    }
   ],
   "source": [
    "filter_name = 'Naruto'\n",
    "for i, row in enumerate(anime_topn):\n",
    "    if row[0] == filter_name:\n",
    "        break\n",
    "print(\"Input: \", anime_topn[i][0])\n",
    "nbrs_dist, nbrs_idx = knn.kneighbors([anime_topn[i][1:]], 10, return_distance=True)\n",
    "[anime_idx_topn_mapping[idx] for idx in nbrs_idx[0]]"
   ]
  },
  {
   "cell_type": "code",
   "execution_count": null,
   "metadata": {},
   "outputs": [],
   "source": []
  },
  {
   "cell_type": "code",
   "execution_count": 147,
   "metadata": {},
   "outputs": [
    {
     "data": {
      "text/plain": [
       "[['Death Note', -0.031680826, 0.0066196276],\n",
       " ['Code Geass: Hangyaku no Lelouch', -0.0160152, 0.02600502],\n",
       " ['Elfen Lied', -0.003457303, 0.020181341],\n",
       " ['Fullmetal Alchemist: Brotherhood', -0.011196773, 0.024247613],\n",
       " ['Toradora!', 0.0052696043, 0.017013013],\n",
       " ['Naruto', -0.004351565, 0.021120787],\n",
       " ['Sword Art Online', -0.012656756, 0.020492766],\n",
       " ['Shingeki no Kyojin', 0.0005006649, 0.014043537],\n",
       " ['Angel Beats!', -0.01270148, 0.017886885],\n",
       " ['Bleach', -0.034635946, 0.013839731],\n",
       " ['Clannad', -0.0007813986, 0.017041478],\n",
       " ['Fullmetal Alchemist', -0.025213894, 0.028307842],\n",
       " ['Suzumiya Haruhi no Yuuutsu', -0.01544212, 0.020031484],\n",
       " ['Steins;Gate', 0.004202617, 0.017286923],\n",
       " ['Soul Eater', -0.0059138793, 0.008802505],\n",
       " ['Durarara!!', 0.0061928337, 0.019454477],\n",
       " ['Tengen Toppa Gurren Lagann', -0.003138685, 0.020537911],\n",
       " ['Code Geass: Hangyaku no Lelouch R2', -0.00286002, 0.02295749],\n",
       " ['Sen to Chihiro no Kamikakushi', -0.010402772, 0.026039261],\n",
       " ['Bakemonogatari', -0.034065068, -0.0022773985],\n",
       " ['Mirai Nikki (TV)', -0.0028941107, 0.0141114155],\n",
       " ['Highschool of the Dead', 0.006354606, 0.015786044],\n",
       " ['Naruto: Shippuuden', -0.01011533, 0.023018878],\n",
       " ['Fairy Tail', 0.009933381, 0.016974494],\n",
       " ['Ao no Exorcist', -0.025780149, 0.016856099],\n",
       " ['Neon Genesis Evangelion', -0.02104944, 0.017230414],\n",
       " ['Another', -0.008506495, 0.0218822],\n",
       " ['Darker than Black: Kuro no Keiyakusha', -0.053346388, 0.003662878],\n",
       " ['Cowboy Bebop', -0.02559561, 0.016522318],\n",
       " ['K-On!', -0.013409921, 0.022190232],\n",
       " ['Clannad: After Story', -0.028397446, 0.013061784],\n",
       " ['Ouran Koukou Host Club', -0.009642124, 0.015944628],\n",
       " ['Higurashi no Naku Koro ni', -0.02133674, 0.01192155],\n",
       " ['Ano Hi Mita Hana no Namae wo Bokutachi wa Mada Shiranai.',\n",
       "  0.0051061497,\n",
       "  0.013841461],\n",
       " ['Fate/stay night', -0.017196633, 0.01638815],\n",
       " ['Mahou Shoujo Madoka★Magica', -0.00056138035, 0.01545345],\n",
       " ['No Game No Life', 0.0036262884, 0.010481203],\n",
       " ['One Piece', -0.026075274, 0.012629469],\n",
       " ['Tokyo Ghoul', -0.027430255, 0.0040836707],\n",
       " ['Psycho-Pass', -0.017190784, 0.015437539],\n",
       " ['Byousoku 5 Centimeter', -0.011723408, 0.0031252673],\n",
       " ['Kuroshitsuji', -0.029825857, 0.009487696],\n",
       " ['One Punch Man', 0.0039074044, 0.0028479637],\n",
       " ['Noragami', -0.019899007, 0.011541227],\n",
       " ['Deadman Wonderland', -0.0356051, -0.0047203526],\n",
       " ['Guilty Crown', -0.007069414, 0.006981532],\n",
       " ['Samurai Champloo', -0.009167729, 0.003992578],\n",
       " ['Lucky☆Star', -0.028770905, 0.0033188807],\n",
       " ['Baccano!', -0.023651265, -0.007622366],\n",
       " ['Howl no Ugoku Shiro', -0.033531703, -0.010171836]]"
      ]
     },
     "execution_count": 147,
     "metadata": {},
     "output_type": "execute_result"
    }
   ],
   "source": [
    "anime_topn"
   ]
  }
 ],
 "metadata": {
  "kernelspec": {
   "display_name": "Python 3",
   "language": "python",
   "name": "python3"
  },
  "language_info": {
   "codemirror_mode": {
    "name": "ipython",
    "version": 3
   },
   "file_extension": ".py",
   "mimetype": "text/x-python",
   "name": "python",
   "nbconvert_exporter": "python",
   "pygments_lexer": "ipython3",
   "version": "3.6.8"
  }
 },
 "nbformat": 4,
 "nbformat_minor": 2
}
