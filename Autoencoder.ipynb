{
 "cells": [
  {
   "cell_type": "code",
   "execution_count": 2,
   "metadata": {},
   "outputs": [],
   "source": [
    "import sqlite3\n",
    "import pickle\n",
    "import torch\n",
    "import numpy as np\n",
    "import pandas as pd\n",
    "import torch.nn as nn\n",
    "import torch.optim as optim\n",
    "import torch.nn.functional as F\n",
    "\n",
    "from glob import glob\n",
    "from tqdm import tqdm\n",
    "from IPython.core.debugger import set_trace\n",
    "from torch.utils.data import Dataset, DataLoader, ConcatDataset, random_split"
   ]
  },
  {
   "cell_type": "code",
   "execution_count": 3,
   "metadata": {},
   "outputs": [],
   "source": [
    "np.random.seed(42)\n",
    "device = torch.device(\"cuda\" if torch.cuda.is_available() \n",
    "                                  else \"cpu\")"
   ]
  },
  {
   "cell_type": "code",
   "execution_count": 4,
   "metadata": {},
   "outputs": [
    {
     "data": {
      "text/plain": [
       "dict_keys(['user2idx', 'anime2idx'])"
      ]
     },
     "execution_count": 4,
     "metadata": {},
     "output_type": "execute_result"
    }
   ],
   "source": [
    "mapping = pickle.load(open('datasets/user_anime_ratings_mapping.pkl', 'rb'))\n",
    "mapping.keys()"
   ]
  },
  {
   "cell_type": "code",
   "execution_count": 5,
   "metadata": {},
   "outputs": [],
   "source": [
    "num_users, num_anime = (108709, 6668)\n",
    "batch_size = 1024"
   ]
  },
  {
   "cell_type": "code",
   "execution_count": 6,
   "metadata": {},
   "outputs": [],
   "source": [
    "user_embeddings = pickle.load(open('user_embed_pytorch_nn_epoch4_embedding_fix_10.23-10.21.pkl', 'rb'))"
   ]
  },
  {
   "cell_type": "code",
   "execution_count": 7,
   "metadata": {},
   "outputs": [],
   "source": [
    "anime_embeddings = pickle.load(open('anime_embed_pytorch_nn_epoch4_embedding_fix_10.23-10.21.pkl', 'rb'))"
   ]
  },
  {
   "cell_type": "code",
   "execution_count": 8,
   "metadata": {},
   "outputs": [],
   "source": [
    "user_grouped_rating_files = [f for f in glob('datasets/user_grouped_anime_ratings.gz')]\n",
    "user_grouped_rating_files.sort()"
   ]
  },
  {
   "cell_type": "code",
   "execution_count": 8,
   "metadata": {},
   "outputs": [],
   "source": [
    "# class AnimeRatingsDataset(Dataset):\n",
    "#     \"\"\"Custom Dataset for loading entries from HDF5 databases\"\"\"\n",
    "\n",
    "#     def __init__(self, sqlite_file, embedding_weights, transform=None):\n",
    "#         self.db = sqlite3.connect(sqlite_file)\n",
    "#         self.cursor = self.db.cursor()\n",
    "#         self.embedding_weights = embedding_weights\n",
    "#         self.length = self.cursor.execute('SELECT count(blob) from user_grouped;').fetchone()[0]\n",
    "\n",
    "#     def extract_required_format(self, record):\n",
    "#         num_records = len(record['anime_id'])\n",
    "#         batch_anime_id = np.array(record['anime_id'], dtype=np.int16)\n",
    "#         batch_anime_rating = np.array(record['my_score'], dtype=np.int16)\n",
    "#         avg_rating = np.mean(batch_anime_rating)\n",
    "#         avg_rating = 1 if avg_rating == 0 else avg_rating\n",
    "#         num_anime_watched = len(batch_anime_id)\n",
    "#         sum_rating = np.sum(batch_anime_rating)\n",
    "#         sum_rating = 1 if sum_rating == 0 else sum_rating\n",
    "#         record = np.sum(\n",
    "#             self.embedding_weights[batch_anime_id] * batch_anime_rating.reshape(-1, 1), axis=0\n",
    "#         ).astype(np.float32) / sum_rating\n",
    "#         return record\n",
    "\n",
    "#     def __getitem__(self, index):\n",
    "#         if isinstance(index, torch.Tensor):\n",
    "#             index = int(index)\n",
    "#         row = self.cursor.execute('SELECT * from user_grouped where rowid=?', (index + 1, )).fetchone()\n",
    "#         return self.extract_required_format(pickle.loads(row[1]))\n",
    "\n",
    "#     def __len__(self):\n",
    "#         return self.length"
   ]
  },
  {
   "cell_type": "code",
   "execution_count": 9,
   "metadata": {},
   "outputs": [],
   "source": [
    "class AnimeRatingsDataset(Dataset):\n",
    "    \"\"\"Custom Dataset for loading entries from HDF5 databases\"\"\"\n",
    "\n",
    "    def __init__(self, sqlite_file, anime_embeddings, user_embeddings, mapping, transform=None):\n",
    "        self.df = pd.read_pickle(sqlite_file).reset_index()\n",
    "        self.anime_embeddings = anime_embeddings.cpu().detach().numpy()\n",
    "        self.user_embeddings = user_embeddings.cpu().detach().numpy()\n",
    "        self.mapping = mapping\n",
    "        self.length = self.df.shape[0]\n",
    "\n",
    "    def extract_required_format(self, record):\n",
    "        num_records = len(record['anime_id'])\n",
    "        batch_anime_idx = np.array([self.mapping['anime2idx'][x] for x in record['anime_id']], dtype=np.int32)\n",
    "        batch_anime_rating = np.array(record['my_score'], dtype=np.int16)\n",
    "        num_anime_watched = len(batch_anime_idx)\n",
    "        sum_rating = np.sum(batch_anime_rating)\n",
    "        sum_rating = 1 if sum_rating == 0 else sum_rating\n",
    "        sum_neg_rating = np.sum(10 - batch_anime_rating)\n",
    "        sum_neg_rating = 1 if sum_neg_rating == 0 else sum_neg_rating\n",
    "        anime_sum = np.sum(\n",
    "            self.anime_embeddings[batch_anime_idx] * batch_anime_rating.reshape(-1, 1), axis=0\n",
    "        ).astype(np.float32)\n",
    "        anime_neg_sum = np.sum(\n",
    "            self.anime_embeddings[batch_anime_idx] * (10 - batch_anime_rating.reshape(-1, 1)), axis=0\n",
    "        ).astype(np.float32)\n",
    "        result_sum_rating =  anime_sum / sum_rating\n",
    "        result_mean_rating = anime_sum / num_anime_watched\n",
    "        result_sum_neg_rating = anime_neg_sum / sum_neg_rating\n",
    "        result = np.concatenate([\n",
    "            result_sum_rating,\n",
    "            result_sum_neg_rating,\n",
    "            result_mean_rating\n",
    "        ])\n",
    "        return result, self.user_embeddings[self.mapping['user2idx'][record['user_id']]]\n",
    "\n",
    "    def __getitem__(self, index):\n",
    "        if isinstance(index, torch.Tensor):\n",
    "            index = int(index)\n",
    "        return self.extract_required_format(self.df.iloc[index])\n",
    "\n",
    "    def __len__(self):\n",
    "        return self.length"
   ]
  },
  {
   "cell_type": "code",
   "execution_count": 10,
   "metadata": {},
   "outputs": [],
   "source": [
    "total_dataset = ConcatDataset([\n",
    "    AnimeRatingsDataset(\n",
    "        f,\n",
    "        mapping=mapping,\n",
    "        anime_embeddings=anime_embeddings,\n",
    "        user_embeddings=user_embeddings\n",
    "    ) for f in user_grouped_rating_files\n",
    "])\n",
    "\n",
    "train_size = int(len(total_dataset) * 0.8)\n",
    "test_size = int(len(total_dataset) * 0.2)\n",
    "total = sum([train_size, test_size])\n",
    "diff = len(total_dataset) - total\n",
    "train_dataset, test_dataset = random_split(total_dataset, (train_size + diff, test_size))\n",
    "\n",
    "train_dataloader = DataLoader(\n",
    "    train_dataset, batch_size=batch_size, shuffle=True, num_workers=0\n",
    ")\n",
    "\n",
    "test_dataloader = DataLoader(\n",
    "    test_dataset, batch_size=batch_size, shuffle=True, num_workers=0\n",
    ")"
   ]
  },
  {
   "cell_type": "code",
   "execution_count": 11,
   "metadata": {},
   "outputs": [
    {
     "data": {
      "text/plain": [
       "(85, 22)"
      ]
     },
     "execution_count": 11,
     "metadata": {},
     "output_type": "execute_result"
    }
   ],
   "source": [
    "len(train_dataloader), len(test_dataloader)"
   ]
  },
  {
   "cell_type": "code",
   "execution_count": null,
   "metadata": {},
   "outputs": [],
   "source": []
  },
  {
   "cell_type": "code",
   "execution_count": 12,
   "metadata": {},
   "outputs": [
    {
     "name": "stdout",
     "output_type": "stream",
     "text": [
      "Net(\n",
      "  (enc_fc1): Linear(in_features=150, out_features=50, bias=True)\n",
      "  (enc_fc2): Linear(in_features=50, out_features=10, bias=True)\n",
      "  (enc_fc3): Linear(in_features=10, out_features=5, bias=True)\n",
      "  (dec_fc1): Linear(in_features=5, out_features=10, bias=True)\n",
      "  (dec_fc2): Linear(in_features=10, out_features=25, bias=True)\n",
      "  (dec_fc3): Linear(in_features=25, out_features=50, bias=True)\n",
      ")\n"
     ]
    }
   ],
   "source": [
    "class Net(nn.Module):\n",
    "\n",
    "    def __init__(self, anime_embedding_dim, bottleneck_dim=5, batch_size=batch_size):\n",
    "        super(Net, self).__init__()\n",
    "\n",
    "        self.anime_embedding_dim = anime_embedding_dim\n",
    "        self.bottlenect_dim = 5\n",
    "        self.batch_size = batch_size\n",
    "\n",
    "        self.enc_fc1 = nn.Linear(150, 50)\n",
    "        self.enc_fc2 = nn.Linear(50, 10)\n",
    "        self.enc_fc3 = nn.Linear(10, bottleneck_dim)\n",
    "        self.dec_fc1 = nn.Linear(bottleneck_dim, 10)\n",
    "        self.dec_fc2 = nn.Linear(10, 25)\n",
    "        self.dec_fc3 = nn.Linear(25, 50)\n",
    "\n",
    "\n",
    "    def forward(self, x):\n",
    "        # Autoencoder encoder stage\n",
    "        enc_fc1_out = F.relu(self.enc_fc1(x))\n",
    "        enc_fc2_out = F.relu(self.enc_fc2(enc_fc1_out))\n",
    "        enc_fc3_out = F.relu(self.enc_fc3(enc_fc2_out))\n",
    "\n",
    "        # Autoencoder decoder stage \n",
    "        dec_fc1_out = F.relu(self.dec_fc1(enc_fc3_out))\n",
    "        dec_fc2_out = F.relu(self.dec_fc2(dec_fc1_out))\n",
    "        dec_fc3_out = F.relu(self.dec_fc3(dec_fc2_out))\n",
    "        return dec_fc3_out\n",
    "\n",
    "\n",
    "model = Net(anime_embedding_dim=50)\n",
    "model.to(device)\n",
    "print(model)"
   ]
  },
  {
   "cell_type": "code",
   "execution_count": 13,
   "metadata": {},
   "outputs": [],
   "source": [
    "criterion = nn.MSELoss()\n",
    "optimizer = torch.optim.Adam(model.parameters(), lr=1e-3)"
   ]
  },
  {
   "cell_type": "code",
   "execution_count": 14,
   "metadata": {},
   "outputs": [],
   "source": [
    "num_epochs = 3"
   ]
  },
  {
   "cell_type": "code",
   "execution_count": 15,
   "metadata": {},
   "outputs": [],
   "source": [
    "def train(num_epochs, model, optimizer, criterion):\n",
    "    train_loss = []\n",
    "    validation_loss = []\n",
    "    for epoch in range(num_epochs):\n",
    "        print('Running epoch {}'.format(epoch + 1))\n",
    "        train_epoch_loss = []\n",
    "        validation_epoch_loss = []\n",
    "        model = model.train()\n",
    "        for param in model.parameters():\n",
    "            param.requires_grad = True\n",
    "        # Model Training\n",
    "        for idx, (X, y) in enumerate(train_dataloader):\n",
    "            # Step 1. Remember that Pytorch accumulates gradients.\n",
    "            # We need to clear them out before each instance\n",
    "            model.zero_grad()\n",
    "\n",
    "            X = X.to(device)\n",
    "            y = y.to(device)\n",
    "            # Step 2. Get our inputs ready for the network, that is, turn them into\n",
    "            # Tensors of anime indices.\n",
    "            #record = torch.from_numpy(np.array([ 3, 23, 43, 53,  5,  4,  3, 67], dtype=np.int64)).to(device)\n",
    "\n",
    "            prediction = model(X)\n",
    "\n",
    "            # Step 4. Compute the loss, gradients, and update the parameters by\n",
    "            #  calling optimizer.step()\n",
    "            loss = criterion(prediction, y)\n",
    "            loss.backward()\n",
    "            optimizer.step()\n",
    "            train_epoch_loss.append(float(loss))\n",
    "            if idx % 40 == 0:\n",
    "                print('Batch {} - Training loss: {}'.format(idx + 1, loss))\n",
    "            del loss\n",
    "            del prediction\n",
    "\n",
    "\n",
    "        with torch.no_grad():\n",
    "            model = model.eval()\n",
    "            for param in model.parameters():\n",
    "                param.requires_grad = False\n",
    "            for idx, (X, y) in enumerate(test_dataloader):\n",
    "                # Step 1. Remember that Pytorch accumulates gradients.\n",
    "                # We need to clear them out before each instance\n",
    "                model.zero_grad()\n",
    "\n",
    "                X = X.to(device)\n",
    "                y = y.to(device)\n",
    "                # Step 2. Get our inputs ready for the network, that is, turn them into\n",
    "                # Tensors of anime indices.\n",
    "                #record = torch.from_numpy(np.array([ 3, 23, 43, 53,  5,  4,  3, 67], dtype=np.int64)).to(device)\n",
    "\n",
    "                prediction = model(X)\n",
    "\n",
    "                # Step 4. Compute the loss, gradients, and update the parameters by\n",
    "                #  calling optimizer.step()\n",
    "                loss = criterion(prediction, y)\n",
    "                validation_epoch_loss.append(float(loss))\n",
    "                if idx % 10 == 0:\n",
    "                    print('Batch {} - Validation loss: {}'.format(idx + 1, loss))\n",
    "                del loss\n",
    "                del prediction\n",
    "            model = model.train()\n",
    "\n",
    "        train_loss.append(np.mean(train_epoch_loss))\n",
    "        validation_loss.append(np.mean(validation_epoch_loss))\n",
    "        print('Epoch {}: Mean training loss: {} Mean validation loss: {}'.format(epoch + 1, train_loss[-1], validation_loss[-1]))"
   ]
  },
  {
   "cell_type": "code",
   "execution_count": 16,
   "metadata": {},
   "outputs": [
    {
     "name": "stdout",
     "output_type": "stream",
     "text": [
      "Running epoch 1\n",
      "Batch 1 - Training loss: 1.8214648962020874\n",
      "Batch 41 - Training loss: 1.6318243741989136\n",
      "Batch 81 - Training loss: 1.664335012435913\n",
      "Batch 1 - Validation loss: 1.6022791862487793\n",
      "Batch 11 - Validation loss: 1.4943571090698242\n",
      "Batch 21 - Validation loss: 1.5524723529815674\n",
      "Epoch 1: Mean training loss: 1.684439821804271 Mean validation loss: 1.5875695943832397\n",
      "Running epoch 2\n",
      "Batch 1 - Training loss: 1.606106162071228\n",
      "Batch 41 - Training loss: 1.5621882677078247\n",
      "Batch 81 - Training loss: 1.5743423700332642\n",
      "Batch 1 - Validation loss: 1.5625861883163452\n",
      "Batch 11 - Validation loss: 1.5122735500335693\n",
      "Batch 21 - Validation loss: 1.4800862073898315\n",
      "Epoch 2: Mean training loss: 1.563889503479004 Mean validation loss: 1.5121643597429448\n",
      "Running epoch 3\n",
      "Batch 1 - Training loss: 1.5317864418029785\n",
      "Batch 41 - Training loss: 1.5011523962020874\n",
      "Batch 81 - Training loss: 1.4185843467712402\n",
      "Batch 1 - Validation loss: 1.4704281091690063\n",
      "Batch 11 - Validation loss: 1.394219994544983\n",
      "Batch 21 - Validation loss: 1.4343626499176025\n",
      "Epoch 3: Mean training loss: 1.4965325285406674 Mean validation loss: 1.4591728394681758\n",
      "Running epoch 4\n",
      "Batch 1 - Training loss: 1.4786306619644165\n",
      "Batch 41 - Training loss: 1.499059796333313\n",
      "Batch 81 - Training loss: 1.4913625717163086\n",
      "Batch 1 - Validation loss: 1.4915826320648193\n",
      "Batch 11 - Validation loss: 1.476150393486023\n",
      "Batch 21 - Validation loss: 1.3846940994262695\n",
      "Epoch 4: Mean training loss: 1.4579449092640597 Mean validation loss: 1.4371562654321843\n",
      "Running epoch 5\n",
      "Batch 1 - Training loss: 1.4998064041137695\n",
      "Batch 41 - Training loss: 1.4015699625015259\n",
      "Batch 81 - Training loss: 1.4366918802261353\n",
      "Batch 1 - Validation loss: 1.4466711282730103\n",
      "Batch 11 - Validation loss: 1.4001421928405762\n",
      "Batch 21 - Validation loss: 1.4108281135559082\n",
      "Epoch 5: Mean training loss: 1.4440837818033554 Mean validation loss: 1.4340930797836997\n",
      "Running epoch 6\n",
      "Batch 1 - Training loss: 1.4456485509872437\n",
      "Batch 41 - Training loss: 1.4581594467163086\n",
      "Batch 81 - Training loss: 1.434525728225708\n",
      "Batch 1 - Validation loss: 1.4184635877609253\n",
      "Batch 11 - Validation loss: 1.4100348949432373\n",
      "Batch 21 - Validation loss: 1.4333510398864746\n",
      "Epoch 6: Mean training loss: 1.4362164904089536 Mean validation loss: 1.4198116768490185\n",
      "Running epoch 7\n",
      "Batch 1 - Training loss: 1.4205666780471802\n",
      "Batch 41 - Training loss: 1.4308170080184937\n",
      "Batch 81 - Training loss: 1.4800411462783813\n",
      "Batch 1 - Validation loss: 1.4442837238311768\n",
      "Batch 11 - Validation loss: 1.424208641052246\n",
      "Batch 21 - Validation loss: 1.5014419555664062\n",
      "Epoch 7: Mean training loss: 1.431142021627987 Mean validation loss: 1.4203446344895796\n",
      "Running epoch 8\n",
      "Batch 1 - Training loss: 1.432144045829773\n",
      "Batch 41 - Training loss: 1.4204308986663818\n",
      "Batch 81 - Training loss: 1.4736950397491455\n",
      "Batch 1 - Validation loss: 1.4530259370803833\n",
      "Batch 11 - Validation loss: 1.3768017292022705\n",
      "Batch 21 - Validation loss: 1.4533212184906006\n",
      "Epoch 8: Mean training loss: 1.4289903682820937 Mean validation loss: 1.4156447594816035\n",
      "Running epoch 9\n",
      "Batch 1 - Training loss: 1.3992314338684082\n",
      "Batch 41 - Training loss: 1.4071322679519653\n",
      "Batch 81 - Training loss: 1.4745172262191772\n",
      "Batch 1 - Validation loss: 1.4465358257293701\n",
      "Batch 11 - Validation loss: 1.3995132446289062\n",
      "Batch 21 - Validation loss: 1.3959945440292358\n",
      "Epoch 9: Mean training loss: 1.42803073350121 Mean validation loss: 1.4208216125314885\n",
      "Running epoch 10\n",
      "Batch 1 - Training loss: 1.4380074739456177\n",
      "Batch 41 - Training loss: 1.4142637252807617\n",
      "Batch 81 - Training loss: 1.4058114290237427\n",
      "Batch 1 - Validation loss: 1.4176748991012573\n",
      "Batch 11 - Validation loss: 1.4110466241836548\n",
      "Batch 21 - Validation loss: 1.4050893783569336\n",
      "Epoch 10: Mean training loss: 1.4259734336067649 Mean validation loss: 1.4153531356291338\n"
     ]
    }
   ],
   "source": [
    "optimizer = torch.optim.Adam(model.parameters(), lr=1e-3)\n",
    "train(num_epochs=10, optimizer=optimizer, model=model, criterion=criterion)"
   ]
  },
  {
   "cell_type": "code",
   "execution_count": 17,
   "metadata": {},
   "outputs": [
    {
     "name": "stderr",
     "output_type": "stream",
     "text": [
      "/opt/conda/lib/python3.6/site-packages/torch/serialization.py:251: UserWarning: Couldn't retrieve source code for container of type Net. It won't be checked for correctness upon loading.\n",
      "  \"type \" + obj.__name__ + \". It won't be checked \"\n"
     ]
    }
   ],
   "source": [
    "torch.save(model.state_dict, 'autoencoder_10epochs.pth')"
   ]
  },
  {
   "cell_type": "code",
   "execution_count": 18,
   "metadata": {},
   "outputs": [
    {
     "name": "stdout",
     "output_type": "stream",
     "text": [
      "Running epoch 1\n",
      "Batch 1 - Training loss: 1.3883973360061646\n",
      "Batch 41 - Training loss: 1.4170658588409424\n",
      "Batch 81 - Training loss: 1.4082369804382324\n",
      "Batch 1 - Validation loss: 1.419114112854004\n",
      "Batch 11 - Validation loss: 1.4962347745895386\n",
      "Batch 21 - Validation loss: 1.353446364402771\n",
      "Epoch 1: Mean training loss: 1.4242379384882309 Mean validation loss: 1.410010121085427\n",
      "Running epoch 2\n",
      "Batch 1 - Training loss: 1.3586822748184204\n",
      "Batch 41 - Training loss: 1.4589440822601318\n",
      "Batch 81 - Training loss: 1.4188942909240723\n",
      "Batch 1 - Validation loss: 1.4276455640792847\n",
      "Batch 11 - Validation loss: 1.4059468507766724\n",
      "Batch 21 - Validation loss: 1.4438374042510986\n",
      "Epoch 2: Mean training loss: 1.4239942704930024 Mean validation loss: 1.4137762784957886\n",
      "Running epoch 3\n",
      "Batch 1 - Training loss: 1.434733271598816\n",
      "Batch 41 - Training loss: 1.4547758102416992\n",
      "Batch 81 - Training loss: 1.4284988641738892\n",
      "Batch 1 - Validation loss: 1.3877053260803223\n",
      "Batch 11 - Validation loss: 1.472208857536316\n",
      "Batch 21 - Validation loss: 1.4038833379745483\n",
      "Epoch 3: Mean training loss: 1.4238742042990291 Mean validation loss: 1.4151286699555137\n",
      "Running epoch 4\n",
      "Batch 1 - Training loss: 1.366486668586731\n",
      "Batch 41 - Training loss: 1.434790015220642\n",
      "Batch 81 - Training loss: 1.4342374801635742\n",
      "Batch 1 - Validation loss: 1.3650240898132324\n",
      "Batch 11 - Validation loss: 1.4069533348083496\n",
      "Batch 21 - Validation loss: 1.4314072132110596\n",
      "Epoch 4: Mean training loss: 1.4236258072011612 Mean validation loss: 1.415715223008936\n",
      "Running epoch 5\n",
      "Batch 1 - Training loss: 1.385240077972412\n",
      "Batch 41 - Training loss: 1.4806866645812988\n",
      "Batch 81 - Training loss: 1.3959845304489136\n",
      "Batch 1 - Validation loss: 1.424808382987976\n",
      "Batch 11 - Validation loss: 1.4542676210403442\n",
      "Batch 21 - Validation loss: 1.4144788980484009\n",
      "Epoch 5: Mean training loss: 1.4235492243486292 Mean validation loss: 1.4152760397304187\n",
      "Running epoch 6\n",
      "Batch 1 - Training loss: 1.411415696144104\n",
      "Batch 41 - Training loss: 1.4100297689437866\n",
      "Batch 81 - Training loss: 1.4083340167999268\n",
      "Batch 1 - Validation loss: 1.4359744787216187\n",
      "Batch 11 - Validation loss: 1.4159811735153198\n",
      "Batch 21 - Validation loss: 1.4034068584442139\n",
      "Epoch 6: Mean training loss: 1.4233875162461225 Mean validation loss: 1.4127989465540105\n",
      "Running epoch 7\n",
      "Batch 1 - Training loss: 1.4246430397033691\n",
      "Batch 41 - Training loss: 1.397039532661438\n",
      "Batch 81 - Training loss: 1.4749391078948975\n",
      "Batch 1 - Validation loss: 1.413379192352295\n",
      "Batch 11 - Validation loss: 1.4007940292358398\n",
      "Batch 21 - Validation loss: 1.4082080125808716\n",
      "Epoch 7: Mean training loss: 1.4232421173768885 Mean validation loss: 1.4145738699219443\n",
      "Running epoch 8\n",
      "Batch 1 - Training loss: 1.408370852470398\n",
      "Batch 41 - Training loss: 1.419844627380371\n",
      "Batch 81 - Training loss: 1.4186891317367554\n",
      "Batch 1 - Validation loss: 1.4166553020477295\n",
      "Batch 11 - Validation loss: 1.404414415359497\n",
      "Batch 21 - Validation loss: 1.4377926588058472\n",
      "Epoch 8: Mean training loss: 1.4231614239075605 Mean validation loss: 1.4169415885751897\n",
      "Running epoch 9\n",
      "Batch 1 - Training loss: 1.382353663444519\n",
      "Batch 41 - Training loss: 1.368251919746399\n",
      "Batch 81 - Training loss: 1.4208945035934448\n",
      "Batch 1 - Validation loss: 1.4456137418746948\n",
      "Batch 11 - Validation loss: 1.41387140750885\n",
      "Batch 21 - Validation loss: 1.4222793579101562\n",
      "Epoch 9: Mean training loss: 1.4230193643008962 Mean validation loss: 1.4145413474603132\n",
      "Running epoch 10\n",
      "Batch 1 - Training loss: 1.4330236911773682\n",
      "Batch 41 - Training loss: 1.4048583507537842\n",
      "Batch 81 - Training loss: 1.5375896692276\n",
      "Batch 1 - Validation loss: 1.4229358434677124\n",
      "Batch 11 - Validation loss: 1.4159566164016724\n",
      "Batch 21 - Validation loss: 1.3686755895614624\n",
      "Epoch 10: Mean training loss: 1.4228685785742368 Mean validation loss: 1.415624889460477\n"
     ]
    }
   ],
   "source": [
    "optimizer = torch.optim.Adam(model.parameters(), lr=1e-4)\n",
    "train(num_epochs=10, optimizer=optimizer, model=model, criterion=criterion)"
   ]
  },
  {
   "cell_type": "code",
   "execution_count": 20,
   "metadata": {},
   "outputs": [],
   "source": [
    "torch.save(model.state_dict, 'autoencoder_20epochs.pth')"
   ]
  },
  {
   "cell_type": "code",
   "execution_count": 15,
   "metadata": {},
   "outputs": [],
   "source": [
    "mapping['idx2user'] = {v: k for k, v in mapping['user2idx'].items()}\n",
    "mapping['idx2anime'] = {v: k for k, v in mapping['anime2idx'].items()}"
   ]
  },
  {
   "cell_type": "code",
   "execution_count": 16,
   "metadata": {},
   "outputs": [],
   "source": [
    "model.load_state_dict(torch.load('autoencoder_20epochs.pth')())"
   ]
  },
  {
   "cell_type": "code",
   "execution_count": null,
   "metadata": {},
   "outputs": [],
   "source": []
  },
  {
   "cell_type": "code",
   "execution_count": 17,
   "metadata": {},
   "outputs": [],
   "source": [
    "topn = 50\n",
    "users_idx = range(topn)\n",
    "top_user_id = [mapping['idx2user'][u] for u in users_idx]\n",
    "top_users = user_embeddings[users_idx]\n",
    "dataset = total_dataset.datasets[0]\n",
    "top_records = dataset.df.set_index('user_id').loc[top_user_id]\n",
    "top_records\n",
    "prediction_model = model.eval()\n",
    "for param in prediction_model.parameters():\n",
    "    param.requires_grad = False"
   ]
  },
  {
   "cell_type": "code",
   "execution_count": 35,
   "metadata": {},
   "outputs": [],
   "source": [
    "computed_records = [dataset.extract_required_format(record) for _, record in top_records.reset_index().iterrows()]\n",
    "computer_records = [(torch.from_numpy(x), torch.from_numpy(y)) for x, y in computed_records]\n",
    "X = torch.tensor([z[0] for z in computed_records]).to(device)\n",
    "y = torch.tensor([z[1] for z in computed_records]).to(device)"
   ]
  },
  {
   "cell_type": "code",
   "execution_count": 38,
   "metadata": {},
   "outputs": [],
   "source": [
    "predicted_embeddings = prediction_model(X)"
   ]
  },
  {
   "cell_type": "code",
   "execution_count": 45,
   "metadata": {},
   "outputs": [
    {
     "data": {
      "text/plain": [
       "(torch.Size([50, 50]), torch.Size([50, 50]))"
      ]
     },
     "execution_count": 45,
     "metadata": {},
     "output_type": "execute_result"
    }
   ],
   "source": [
    "top_users.shape, predicted_embeddings.shape"
   ]
  },
  {
   "cell_type": "code",
   "execution_count": 48,
   "metadata": {},
   "outputs": [],
   "source": [
    "from sklearn.decomposition.pca import PCA\n",
    "\n",
    "actual = top_users.cpu().detach().numpy()\n",
    "predicted = predicted_embeddings.cpu().detach().numpy()\n",
    "pca = PCA(n_components=2)\n",
    "pca = pca.fit(actual)\n",
    "condensed_actual = pca.transform(actual)\n",
    "condensed_predicted = pca.transform(predicted)"
   ]
  },
  {
   "cell_type": "code",
   "execution_count": 55,
   "metadata": {},
   "outputs": [
    {
     "data": {
      "image/png": "[encoded data removed]",
      "text/plain": [
       "<Figure size 1440x1440 with 1 Axes>"
      ]
     },
     "metadata": {
      "needs_background": "light"
     },
     "output_type": "display_data"
    }
   ],
   "source": [
    "import matplotlib.pyplot as plt\n",
    "%matplotlib inline \n",
    "\n",
    "def generate_plot_embeddings(actual, predicted, figsize=(20, 20)):\n",
    "    plt.figure(figsize=figsize)\n",
    "    plt.scatter(actual[:, 0], actual[:, 1])\n",
    "    plt.scatter(predicted[:, 0], predicted[:, 1])\n",
    "    for idx, (actual_row, predicted_row) in enumerate(zip(actual, predicted)):\n",
    "        color = np.random.rand(3)*0.7\n",
    "        plt.text(actual_row[0],\n",
    "                 actual_row[1],\n",
    "                 idx, color=color, fontsize=14)\n",
    "        plt.text(predicted_row[0],\n",
    "                 predicted_row[1],\n",
    "                 idx, color=color, fontsize=14)\n",
    "    plt.show()\n",
    "generate_plot_embeddings(actual, predicted)"
   ]
  }
 ],
 "metadata": {
  "kernelspec": {
   "display_name": "Python 3",
   "language": "python",
   "name": "python3"
  },
  "language_info": {
   "codemirror_mode": {
    "name": "ipython",
    "version": 3
   },
   "file_extension": ".py",
   "mimetype": "text/x-python",
   "name": "python",
   "nbconvert_exporter": "python",
   "pygments_lexer": "ipython3",
   "version": "3.6.8"
  }
 },
 "nbformat": 4,
 "nbformat_minor": 2
}
